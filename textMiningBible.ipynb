{
 "cells": [
  {
   "cell_type": "code",
   "execution_count": 1,
   "metadata": {},
   "outputs": [
    {
     "data": {
      "text/plain": [
       "['/opt/homebrew/anaconda3/envs/wy_test/lib/python310.zip',\n",
       " '/opt/homebrew/anaconda3/envs/wy_test/lib/python3.10',\n",
       " '/opt/homebrew/anaconda3/envs/wy_test/lib/python3.10/lib-dynload',\n",
       " '',\n",
       " '/Users/kummy/.local/lib/python3.10/site-packages',\n",
       " '/opt/homebrew/anaconda3/envs/wy_test/lib/python3.10/site-packages']"
      ]
     },
     "execution_count": 1,
     "metadata": {},
     "output_type": "execute_result"
    }
   ],
   "source": [
    "import sys\n",
    "sys.path"
   ]
  },
  {
   "cell_type": "code",
   "execution_count": 2,
   "metadata": {},
   "outputs": [],
   "source": [
    "\"\"\"\n",
    "    pygments.regexopt\n",
    "    ~~~~~~~~~~~~~~~~~\n",
    "\n",
    "    An algorithm that generates optimized regexes for matching long lists of\n",
    "    literal strings.\n",
    "\n",
    "    :copyright: Copyright 2006-2023 by the Pygments team, see AUTHORS.\n",
    "    :license: BSD, see LICENSE for details.\n",
    "\"\"\"\n",
    "\n",
    "import re\n",
    "from re import escape\n",
    "from os.path import commonprefix\n",
    "from itertools import groupby\n",
    "from operator import itemgetter\n",
    "\n",
    "CS_ESCAPE = re.compile(r'[\\[\\^\\\\\\-\\]]')\n",
    "FIRST_ELEMENT = itemgetter(0)\n",
    "\n",
    "\n",
    "def make_charset(letters):\n",
    "    return '[' + CS_ESCAPE.sub(lambda m: '\\\\' + m.group(), ''.join(letters)) + ']'\n",
    "\n",
    "\n",
    "def regex_opt_inner(strings, open_paren):\n",
    "    \"\"\"Return a regex that matches any string in the sorted list of strings.\"\"\"\n",
    "    close_paren = open_paren and ')' or ''\n",
    "    # print strings, repr(open_paren)\n",
    "    if not strings:\n",
    "        # print '-> nothing left'\n",
    "        return ''\n",
    "    first = strings[0]\n",
    "    if len(strings) == 1:\n",
    "        # print '-> only 1 string'\n",
    "        return open_paren + escape(first) + close_paren\n",
    "    if not first:\n",
    "        # print '-> first string empty'\n",
    "        return open_paren + regex_opt_inner(strings[1:], '(?:') \\\n",
    "            + '?' + close_paren\n",
    "    if len(first) == 1:\n",
    "        # multiple one-char strings? make a charset\n",
    "        oneletter = []\n",
    "        rest = []\n",
    "        for s in strings:\n",
    "            if len(s) == 1:\n",
    "                oneletter.append(s)\n",
    "            else:\n",
    "                rest.append(s)\n",
    "        if len(oneletter) > 1:  # do we have more than one oneletter string?\n",
    "            if rest:\n",
    "                # print '-> 1-character + rest'\n",
    "                return open_paren + regex_opt_inner(rest, '') + '|' \\\n",
    "                    + make_charset(oneletter) + close_paren\n",
    "            # print '-> only 1-character'\n",
    "            return open_paren + make_charset(oneletter) + close_paren\n",
    "    prefix = commonprefix(strings)\n",
    "    if prefix:\n",
    "        plen = len(prefix)\n",
    "        # we have a prefix for all strings\n",
    "        # print '-> prefix:', prefix\n",
    "        return open_paren + escape(prefix) \\\n",
    "            + regex_opt_inner([s[plen:] for s in strings], '(?:') \\\n",
    "            + close_paren\n",
    "    # is there a suffix?\n",
    "    strings_rev = [s[::-1] for s in strings]\n",
    "    suffix = commonprefix(strings_rev)\n",
    "    if suffix:\n",
    "        slen = len(suffix)\n",
    "        # print '-> suffix:', suffix[::-1]\n",
    "        return open_paren \\\n",
    "            + regex_opt_inner(sorted(s[:-slen] for s in strings), '(?:') \\\n",
    "            + escape(suffix[::-1]) + close_paren\n",
    "    # recurse on common 1-string prefixes\n",
    "    # print '-> last resort'\n",
    "    return open_paren + \\\n",
    "        '|'.join(regex_opt_inner(list(group[1]), '')\n",
    "                 for group in groupby(strings, lambda s: s[0] == first[0])) \\\n",
    "        + close_paren\n",
    "\n",
    "\n",
    "def regex_opt(strings, prefix='', suffix=''):\n",
    "    \"\"\"Return a compiled regex that matches any string in the given list.\n",
    "\n",
    "    The strings to match must be literal strings, not regexes.  They will be\n",
    "    regex-escaped.\n",
    "\n",
    "    *prefix* and *suffix* are pre- and appended to the final regex.\n",
    "    \"\"\"\n",
    "    strings = sorted(strings)\n",
    "    return prefix + regex_opt_inner(strings, '(') + suffix\n"
   ]
  },
  {
   "cell_type": "code",
   "execution_count": 3,
   "metadata": {},
   "outputs": [
    {
     "data": {
      "text/plain": [
       "['abc']"
      ]
     },
     "execution_count": 3,
     "metadata": {},
     "output_type": "execute_result"
    }
   ],
   "source": [
    "import re\n",
    "text = '123abc456'\n",
    "re.match(r'abc', text)\n",
    "re.search(r'abc',text)\n",
    "re.findall(r'abc', text)\n"
   ]
  },
  {
   "cell_type": "code",
   "execution_count": 4,
   "metadata": {},
   "outputs": [
    {
     "data": {
      "text/plain": [
       "'abc'"
      ]
     },
     "execution_count": 4,
     "metadata": {},
     "output_type": "execute_result"
    }
   ],
   "source": [
    "r = re.search(r'abc', text)\n",
    "r.group()"
   ]
  },
  {
   "cell_type": "code",
   "execution_count": 5,
   "metadata": {},
   "outputs": [
    {
     "data": {
      "text/plain": [
       "'ab'"
      ]
     },
     "execution_count": 5,
     "metadata": {},
     "output_type": "execute_result"
    }
   ],
   "source": [
    "text1 = 'abcd'\n",
    "re.match(r'\\w\\w', text1)\n",
    "\n",
    "re.search(r'\\w\\w', text1).group()"
   ]
  },
  {
   "cell_type": "code",
   "execution_count": 6,
   "metadata": {},
   "outputs": [
    {
     "data": {
      "text/plain": [
       "['ab', 'cd']"
      ]
     },
     "execution_count": 6,
     "metadata": {},
     "output_type": "execute_result"
    }
   ],
   "source": [
    "re.findall(r'\\w\\w', text1)\n",
    "# re.findall(r'\\w\\w', text1).group()"
   ]
  },
  {
   "cell_type": "code",
   "execution_count": 7,
   "metadata": {},
   "outputs": [
    {
     "data": {
      "text/plain": [
       "['apple', 'appla']"
      ]
     },
     "execution_count": 7,
     "metadata": {},
     "output_type": "execute_result"
    }
   ],
   "source": [
    "# 대괄화 [AB] == A or B\n",
    "\n",
    "re.findall(r'appl[ea]', 'apple appla appli')"
   ]
  },
  {
   "cell_type": "code",
   "execution_count": 8,
   "metadata": {},
   "outputs": [
    {
     "data": {
      "text/plain": [
       "['appli', 'applo']"
      ]
     },
     "execution_count": 8,
     "metadata": {},
     "output_type": "execute_result"
    }
   ],
   "source": [
    "re.findall(r'appl[^ea]', 'apple appla appli applo')"
   ]
  },
  {
   "cell_type": "code",
   "execution_count": 9,
   "metadata": {},
   "outputs": [
    {
     "data": {
      "text/plain": [
       "('2002', '12', '19')"
      ]
     },
     "execution_count": 9,
     "metadata": {},
     "output_type": "execute_result"
    }
   ],
   "source": [
    "text = '2002년 12월 19일 기사입니다.'\n",
    "result1 = re.search(r'(\\d{4})년 (\\d{1,2})월 (\\d{1,2})일', text)\n",
    "result1.groups()"
   ]
  },
  {
   "cell_type": "code",
   "execution_count": 10,
   "metadata": {},
   "outputs": [
    {
     "data": {
      "text/plain": [
       "'2002'"
      ]
     },
     "execution_count": 10,
     "metadata": {},
     "output_type": "execute_result"
    }
   ],
   "source": [
    "result1.group(1)"
   ]
  },
  {
   "cell_type": "code",
   "execution_count": 11,
   "metadata": {},
   "outputs": [
    {
     "data": {
      "text/plain": [
       "('02', '12', '19')"
      ]
     },
     "execution_count": 11,
     "metadata": {},
     "output_type": "execute_result"
    }
   ],
   "source": [
    "text = '2002년 12월 19일 기사입니다.'\n",
    "result1 = re.search(r'(\\d{2})년 (\\d{1,2})월 (\\d{1,2})일', text)\n",
    "result1.groups()"
   ]
  },
  {
   "cell_type": "code",
   "execution_count": 12,
   "metadata": {},
   "outputs": [
    {
     "data": {
      "text/plain": [
       "['apple', 'banana']"
      ]
     },
     "execution_count": 12,
     "metadata": {},
     "output_type": "execute_result"
    }
   ],
   "source": [
    "re.findall(r'apple|banana', 'apple banana carrot')"
   ]
  },
  {
   "cell_type": "code",
   "execution_count": null,
   "metadata": {},
   "outputs": [
    {
     "data": {
      "text/plain": [
       "<re.Match object; span=(9, 11), match='no'>"
      ]
     },
     "execution_count": 13,
     "metadata": {},
     "output_type": "execute_result"
    }
   ],
   "source": [
    "re.search(r'Licence: yes|no', 'License: no')\n",
    "## 뒷 부분에 입력된 No 부분의 자릿수만 찾아서 리턴, 9~11번쨰\n",
    "\n"
   ]
  }
 ],
 "metadata": {
  "kernelspec": {
   "display_name": "Python 3",
   "language": "python",
   "name": "python3"
  },
  "language_info": {
   "codemirror_mode": {
    "name": "ipython",
    "version": 3
   },
   "file_extension": ".py",
   "mimetype": "text/x-python",
   "name": "python",
   "nbconvert_exporter": "python",
   "pygments_lexer": "ipython3",
   "version": "3.10.13"
  }
 },
 "nbformat": 4,
 "nbformat_minor": 2
}
