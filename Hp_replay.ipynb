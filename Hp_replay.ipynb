{
 "cells": [
  {
   "cell_type": "markdown",
   "metadata": {},
   "source": [
    "#1. [For, key, dict] 게임캐릭터 특징 출력\n",
    "\n",
    "출력 :\n",
    "\n",
    "name : 기사\n",
    "level : 12\n",
    "items : 불꽃의 검\n",
    "items : 풀플레이트\n",
    "skill : 베기\n",
    "skill : 세게 베기\n",
    "skill : 아주 세게 베기"
   ]
  },
  {
   "cell_type": "code",
   "execution_count": 121,
   "metadata": {},
   "outputs": [
    {
     "name": "stdout",
     "output_type": "stream",
     "text": [
      "name : 기사\n",
      "level : 12\n",
      "items : 불꽃의 검\n",
      "items : 풀플레이트\n",
      "items : {'sword': '불꽃의 검', 'armor': '풀플레이트'}\n",
      "skill : 베기\n",
      "skill : 세게 베기\n",
      "skill : 아주 세게 베기\n"
     ]
    }
   ],
   "source": [
    "character = {\n",
    "    \"name\" : \"기사\",\n",
    "    \"level\" : 12,\n",
    "    \"items\": {\n",
    "        \"sword\" : \"불꽃의 검\",\n",
    "        \"armor\" : \"풀플레이트\"\n",
    "    },\n",
    "    \"skill\": [\"베기\", \"세게 베기\", \"아주 세게 베기\"]\n",
    "}\n",
    "\n",
    "for key in character :\n",
    "    if type(character[key]) is dict:\n",
    "        for small_key in character[key]:\n",
    "            print(key, \":\", character[key][small_key])\n",
    "    if type(character[key]) is list:\n",
    "        for item in character[key]:\n",
    "            print(key, \":\", item)\n",
    "    else :\n",
    "        print(key, \":\", character[key])"
   ]
  },
  {
   "cell_type": "code",
   "execution_count": 34,
   "metadata": {},
   "outputs": [
    {
     "name": "stdout",
     "output_type": "stream",
     "text": [
      "name : 기사\n",
      "level : 12\n",
      "sword : 불꽃의 검\n",
      "armor : 풀플레이트\n",
      "skill : 베기\n",
      "skill : 세게 베기\n",
      "skill : 아주 세게 베기\n"
     ]
    }
   ],
   "source": [
    "character = {\n",
    "    \"name\" : \"기사\",\n",
    "    \"level\" : 12,\n",
    "    \"items\": {\n",
    "        \"sword\" : \"불꽃의 검\",\n",
    "        \"armor\" : \"풀플레이트\"\n",
    "    },\n",
    "    \"skill\": [\"베기\", \"세게 베기\", \"아주 세게 베기\"]\n",
    "}\n",
    "\n",
    "for key in character:\n",
    "    if type(character[key]) is dict:\n",
    "        for small_key in character[key]:\n",
    "            print(small_key, \":\", character[key][small_key])\n",
    "    elif type(character[key]) is list:\n",
    "            for item in character[key]:\n",
    "                print(key, \":\", item)\n",
    "    else : \n",
    "        print(key, \":\", character[key])"
   ]
  },
  {
   "cell_type": "code",
   "execution_count": 18,
   "metadata": {},
   "outputs": [
    {
     "name": "stdout",
     "output_type": "stream",
     "text": [
      "{'name': '기사', 'hp': 200, 'mp': 30, 'level': 5}\n"
     ]
    }
   ],
   "source": [
    "key_list = [\"name\", \"hp\", \"mp\", \"level\"]\n",
    "value_list = [\"기사\", 200, 30, 5]\n",
    "character = {}\n",
    "\n",
    "for i in range(0, len(key_list)):\n",
    "    character[key_list[i]] = value_list[i]\n",
    "\n",
    "# 최종 출력\n",
    "print(character)"
   ]
  },
  {
   "cell_type": "markdown",
   "metadata": {},
   "source": [
    "#1-1) \n",
    "출력:\n",
    "\n",
    "{'name': '기사', 'hp': 200, 'mp': 30, 'level': 5}"
   ]
  },
  {
   "cell_type": "code",
   "execution_count": 127,
   "metadata": {},
   "outputs": [
    {
     "data": {
      "text/plain": [
       "{'name': '기사', 'hp': 200, 'mp': 30, 'level': 5}"
      ]
     },
     "execution_count": 127,
     "metadata": {},
     "output_type": "execute_result"
    }
   ],
   "source": [
    "key_list = [\"name\", \"hp\", \"mp\", \"level\"]\n",
    "value_list = [\"기사\", 200, 30, 5]\n",
    "character = {}\n",
    "\n",
    "for i in range(0, len(key_list)):\n",
    "    character[key_list[i]] = value_list[i]\n",
    "    \n",
    "    \n",
    "character"
   ]
  },
  {
   "cell_type": "code",
   "execution_count": 39,
   "metadata": {},
   "outputs": [
    {
     "name": "stdout",
     "output_type": "stream",
     "text": [
      "{'name': '기사', 'hp': 200, 'mp': 30, 'level': 5}\n"
     ]
    }
   ],
   "source": [
    "key_list = [\"name\", \"hp\", \"mp\", \"level\"]\n",
    "value_list = [\"기사\", 200, 30, 5]\n",
    "character = {}\n",
    "\n",
    "for i in range(0,len(key_list)):\n",
    "    character[key_list[i]] = value_list[i]\n",
    "    # character[key] = value_list[key]\n",
    "    \n",
    "print(character)"
   ]
  },
  {
   "cell_type": "markdown",
   "metadata": {},
   "source": [
    "✅#2. 리스트 평탄화"
   ]
  },
  {
   "cell_type": "code",
   "execution_count": 128,
   "metadata": {},
   "outputs": [
    {
     "data": {
      "text/plain": [
       "[1, 2, 3, 4, 5, 6, 7, 8, 9]"
      ]
     },
     "execution_count": 128,
     "metadata": {},
     "output_type": "execute_result"
    }
   ],
   "source": [
    "# 리스트 평탄화\n",
    "a = [1,2,[3,4],5,[6,7],[8,9]]\n",
    "output = []\n",
    "\n",
    "for i in range(0, len(a)):\n",
    "    if type(a[i]) is list:\n",
    "        for j in a[i]:\n",
    "            output.append(j)\n",
    "    else :\n",
    "        output.append(a[i])\n",
    "\n",
    "\n",
    "output"
   ]
  },
  {
   "cell_type": "code",
   "execution_count": 29,
   "metadata": {},
   "outputs": [
    {
     "name": "stdout",
     "output_type": "stream",
     "text": [
      "[1, 2, [3, 4], 5, [6, 7], [8, 9]]를 평탄화하면\n",
      "[1, 2, 3, 4, 5, 6, 7, 8, 9]입니다\n"
     ]
    }
   ],
   "source": [
    "\n",
    "# 리스트 평탄화\n",
    "a = [1,2,[3,4],5,[6,7],[8,9]]\n",
    "output = []\n",
    "\n",
    "for i in a:\n",
    "    if type(i)==list:\n",
    "        for j in i:\n",
    "            output.append(j)\n",
    "    else :\n",
    "        output.append(i)\n",
    "\n",
    "print(f\"{a}를 평탄화하면\")\n",
    "print(f\"{output}입니다\")"
   ]
  },
  {
   "cell_type": "markdown",
   "metadata": {},
   "source": [
    "#3. 염기서열 출력(한개씩)\n",
    "각 c, t, a, g, 가 몇개인지 출력하세요"
   ]
  },
  {
   "cell_type": "code",
   "execution_count": 142,
   "metadata": {},
   "outputs": [
    {
     "data": {
      "text/plain": [
       "{'c': 9, 't': 9, 'a': 9, 'g': 6}"
      ]
     },
     "execution_count": 142,
     "metadata": {},
     "output_type": "execute_result"
    }
   ],
   "source": [
    "nucleos = \"ctacaatgtcagtatacccattgcattagccgg\"\n",
    "counter = {\n",
    "    'c' : 0,\n",
    "    't' : 0,\n",
    "    'a' : 0,\n",
    "    'g' : 0\n",
    "}\n",
    "#print(len(nucleos))\n",
    "for nucleo in nucleos:\n",
    "    counter[nucleo]+=1\n",
    "\n",
    "    # if nucleo in counter['nucleo']:\n",
    "    #         print(nucleo)\n",
    "\n",
    "    # else : counter[nucleo] = 0\n",
    "\n",
    "counter"
   ]
  },
  {
   "cell_type": "code",
   "execution_count": 48,
   "metadata": {},
   "outputs": [
    {
     "name": "stdout",
     "output_type": "stream",
     "text": [
      "c 의 갯수 : 9개\n",
      "t 의 갯수 : 9개\n",
      "a 의 갯수 : 9개\n",
      "g 의 갯수 : 6개\n",
      "{'c': 9, 't': 9, 'a': 9, 'g': 6}\n"
     ]
    }
   ],
   "source": [
    "nucleos = \"ctacaatgtcagtatacccattgcattagccgg\"\n",
    "counter = {\n",
    "    'c' : 0,\n",
    "    't' : 0,\n",
    "    'a' : 0,\n",
    "    'g' : 0\n",
    "}\n",
    "\n",
    "for nucleo in nucleos :\n",
    "    counter[nucleo] += 1\n",
    "    \n",
    "for key in counter :\n",
    "    print(f\"{key} 의 갯수 : {counter[key]}개\")\n",
    "print(counter)\n"
   ]
  },
  {
   "cell_type": "markdown",
   "metadata": {},
   "source": [
    "#4. 염기서열의 코돈 출력(3개씩 나오는 것을 코돈)\n",
    "\n",
    "{'cta': 1, 'caa': 1, 'tgt': 1, 'cag': 1, 'tat': 1, 'acc': 1, 'cat': 1, 'tgc': 1, 'att': 1, 'agc': 1, 'cgg': 1}\n"
   ]
  },
  {
   "cell_type": "code",
   "execution_count": 56,
   "metadata": {},
   "outputs": [
    {
     "name": "stdout",
     "output_type": "stream",
     "text": [
      "{'cta': 1, 'caa': 1, 'tgt': 1, 'cag': 1, 'tat': 1, 'acc': 1, 'cat': 1, 'tgc': 1, 'att': 1, 'agc': 1, 'cgg': 1}\n"
     ]
    }
   ],
   "source": [
    "counter.clear()\n",
    "nucleos = \"ctacaatgtcagtatacccattgcattagccgg\"\n",
    "counter = {}\n",
    "\n",
    "for i in range(0, len(nucleos),3):\n",
    "    codon = nucleos[i:i+3]\n",
    "    if len(codon)==3:\n",
    "        if codon not in counter:\n",
    "            counter[codon] = 0\n",
    "        counter[codon] += 1\n",
    "        \n",
    "        \n",
    "print(counter)"
   ]
  },
  {
   "cell_type": "code",
   "execution_count": 69,
   "metadata": {},
   "outputs": [
    {
     "name": "stdout",
     "output_type": "stream",
     "text": [
      "[1, 2, 3, 4, 5, 6, 7, 8, 9]\n"
     ]
    }
   ],
   "source": [
    "# 리스트 평탄화\n",
    "a = [1,2,[3,4],5,[6,7],[8,9]]\n",
    "output = []\n",
    "\n",
    "for i in range(0, len(a)):\n",
    "    if type(a[i])is list:\n",
    "        for j in a[i]:\n",
    "            output.append(j)\n",
    "    else: output.append(a[i])\n",
    "    #print(a[i])\n",
    "print(output)"
   ]
  },
  {
   "cell_type": "code",
   "execution_count": 73,
   "metadata": {},
   "outputs": [
    {
     "name": "stdout",
     "output_type": "stream",
     "text": [
      "[1, 2, 3, 4, 5, 6, 7, 8, 9]\n"
     ]
    }
   ],
   "source": [
    "# 리스트 평탄화\n",
    "a = [1,2,[3,4],5,[6,7],[8,9]]\n",
    "output = []\n",
    "\n",
    "for i in a:\n",
    "    if type(i) is list:\n",
    "        for j in i :\n",
    "            output.append(j)\n",
    "    else : output.append(i)\n",
    "\n",
    "print(output)"
   ]
  },
  {
   "cell_type": "markdown",
   "metadata": {},
   "source": [
    "#5. 식탁에 앉을사람의 경우의 수(재귀함수)\n"
   ]
  },
  {
   "cell_type": "code",
   "execution_count": 74,
   "metadata": {},
   "outputs": [
    {
     "name": "stdout",
     "output_type": "stream",
     "text": [
      "437420\n"
     ]
    }
   ],
   "source": [
    "sit_min = 2\n",
    "sit_max = 10\n",
    "total = 100\n",
    "memo ={}\n",
    "\n",
    "def solution(left, sitted) :\n",
    "    key = str([left, sitted])\n",
    "    if key in memo :\n",
    "        return memo[key]\n",
    "    if left <0 :\n",
    "        return 0\n",
    "    if left ==0 :\n",
    "        return 1\n",
    "    # 재귀처리\n",
    "    count = 0\n",
    "    for i in range(sitted, sit_max+1):\n",
    "        count += solution(left -i, i)\n",
    "    # 메모화 처리\n",
    "    memo[key] = count\n",
    "    # 종료\n",
    "    return count\n",
    "print(solution(total, sit_min))"
   ]
  },
  {
   "cell_type": "markdown",
   "metadata": {},
   "source": [
    "#6. 리스트 평탄화2 (재귀함수)"
   ]
  },
  {
   "cell_type": "code",
   "execution_count": 77,
   "metadata": {},
   "outputs": [
    {
     "name": "stdout",
     "output_type": "stream",
     "text": [
      "원본 :  [[1, 2, 3], [4, [5, 6]], 7, [8, 9]]\n",
      "변환 :  [1, 2, 3, 4, 5, 6, 7, 8, 9]\n"
     ]
    }
   ],
   "source": [
    "def flatten(data):\n",
    "    output = []\n",
    "    for item in data:\n",
    "        if type(item) == list:\n",
    "            output += flatten(item)\n",
    "        else:\n",
    "            output.append(item)\n",
    "    return output\n",
    "\n",
    "example = [[1,2,3], [4,[5,6]],7,[8,9]]\n",
    "print(\"원본 : \", example)\n",
    "print(\"변환 : \", flatten(example))"
   ]
  },
  {
   "cell_type": "code",
   "execution_count": 85,
   "metadata": {},
   "outputs": [
    {
     "name": "stdout",
     "output_type": "stream",
     "text": [
      "[1, 2, 3, 4, 5, 6, 1, 1, 7, 8, 9]\n"
     ]
    }
   ],
   "source": [
    "def flatten(data):\n",
    "    output = []\n",
    "    for item in data:\n",
    "        if type(item) == list :\n",
    "            output += flatten(item)\n",
    "        else : output.append(item)\n",
    "    return output\n",
    "        \n",
    "example = [[1,2,3], [4,[5,6,[1,1]]],7,[8,9]]\n",
    "\n",
    "print(flatten(example))\n"
   ]
  },
  {
   "cell_type": "code",
   "execution_count": 86,
   "metadata": {},
   "outputs": [
    {
     "name": "stdout",
     "output_type": "stream",
     "text": [
      "원본:  [[1, 2, 3], [4, [5, 6, [1, 1]]], 7, [8, 9]]\n",
      "평탄화:  [1, 2, 3, 4, 5, 6, 1, 1, 7, 8, 9]\n"
     ]
    }
   ],
   "source": [
    "def flatten(data):\n",
    "    output = []\n",
    "    for item in data:\n",
    "        if type(item) == list :\n",
    "            output+=flatten(item)\n",
    "        else :\n",
    "            output.append(item)\n",
    "    return output\n",
    "\n",
    "example = [[1,2,3], [4,[5,6,[1,1]]],7,[8,9]]\n",
    "\n",
    "print(\"원본: \", example)\n",
    "print(\"평탄화: \", flatten(example))"
   ]
  },
  {
   "cell_type": "markdown",
   "metadata": {},
   "source": [
    "#7. 파일 내용 랜덤함수로 채우기\n"
   ]
  },
  {
   "cell_type": "code",
   "execution_count": null,
   "metadata": {},
   "outputs": [],
   "source": [
    "import random\n",
    "hangeuls = list(\"가나다라마바사아자타카타파하\")\n",
    "with open(\"info.txt\",\"w\") as file:\n",
    "    for i in range(10):\n",
    "        name = random.choice(hangeuls) + random.choice(hangeuls)\n",
    "        weight = random.randrange(40,100)\n",
    "        height = random.randrange(150,190)\n",
    "        file.write(\"{},{},{}\\n\".format(name, weight, height))\n",
    "             \n",
    "print(file)"
   ]
  },
  {
   "cell_type": "markdown",
   "metadata": {},
   "source": [
    "#8. BMI 판정(파일 읽어오기 등)\n",
    "\n",
    "<결과>\n",
    "이름: 하아\n",
    "몸무게: 58\n",
    "키: 167\n",
    "BMI: 0.012920472265537981\n",
    "결과: 저체중"
   ]
  },
  {
   "cell_type": "code",
   "execution_count": null,
   "metadata": {},
   "outputs": [],
   "source": [
    "with open(\"info.txt\",\"r\") as file:\n",
    "    for line in file:\n",
    "        # (이름, 무게, 키)로 데이터 스플릿\n",
    "        \n",
    "        # 아룸, 무게, 키 중에 한개라도 없으면... 건너뛰어\n",
    "\n",
    "        # BMI 공식\n",
    "        bmi = int(weight)/((int(height)-100) **2)\n",
    "        result =\"\"\n",
    "        \n",
    "        if 25 <=bmi :\n",
    "            result = \"과체중\"\n",
    "        elif 18.5<bmi :\n",
    "            result = \"정상체중\"\n",
    "        else: \n",
    "            result = \"저체중\"\n",
    "            \n",
    "        # 내용물 한줄씩 띄워서 쓰기\n",
    "     \n",
    "        print()\n",
    "     \n",
    "        "
   ]
  },
  {
   "cell_type": "code",
   "execution_count": 93,
   "metadata": {},
   "outputs": [
    {
     "name": "stdout",
     "output_type": "stream",
     "text": [
      "이름 : 하아\n",
      "무게 : 58\n",
      "키 : 167\n",
      "BMI : 0.012920472265537981\n",
      "결과 : 저체중\n",
      "\n",
      "이름 : 타카\n",
      "무게 : 79\n",
      "키 : 183\n",
      "BMI : 0.011467556974887503\n",
      "결과 : 저체중\n",
      "\n",
      "이름 : 카사\n",
      "무게 : 42\n",
      "키 : 170\n",
      "BMI : 0.008571428571428572\n",
      "결과 : 저체중\n",
      "\n",
      "이름 : 타하\n",
      "무게 : 94\n",
      "키 : 172\n",
      "BMI : 0.018132716049382717\n",
      "결과 : 저체중\n",
      "\n",
      "이름 : 사마\n",
      "무게 : 86\n",
      "키 : 183\n",
      "BMI : 0.012483669618231963\n",
      "결과 : 저체중\n",
      "\n",
      "이름 : 타하\n",
      "무게 : 84\n",
      "키 : 169\n",
      "BMI : 0.017643352236925015\n",
      "결과 : 저체중\n",
      "\n",
      "이름 : 자타\n",
      "무게 : 44\n",
      "키 : 172\n",
      "BMI : 0.008487654320987654\n",
      "결과 : 저체중\n",
      "\n",
      "이름 : 파카\n",
      "무게 : 66\n",
      "키 : 181\n",
      "BMI : 0.010059442158207591\n",
      "결과 : 저체중\n",
      "\n",
      "이름 : 타카\n",
      "무게 : 42\n",
      "키 : 189\n",
      "BMI : 0.005302360813028658\n",
      "결과 : 저체중\n",
      "\n",
      "이름 : 파마\n",
      "무게 : 53\n",
      "키 : 168\n",
      "BMI : 0.011461937716262976\n",
      "결과 : 저체중\n",
      "\n"
     ]
    }
   ],
   "source": [
    "with open(\"info.txt\",\"r\") as file:\n",
    "    for line in file:\n",
    "        # (이름, 무게, 키)로 데이터 스플릿\n",
    "        (name, weight, height) = line.strip().split(\",\")\n",
    "        # print(name, weight, height)\n",
    "        # 이름, 무게, 키 중에 한개라도 없으면... 건너뛰어\n",
    "        if ((not name) or (not weight) or (not height)):\n",
    "            continue\n",
    "        # BMI 공식\n",
    "        bmi = int(weight)/((int(height)-100) **2)\n",
    "        result = \"\"\n",
    "        \n",
    "        if 25 <=bmi :\n",
    "            result = \"과체중\"\n",
    "        elif 18.5<bmi :\n",
    "            result = \"정상체중\"\n",
    "        else: \n",
    "            result = \"저체중\"\n",
    "            \n",
    "        # 내용물 한줄씩 띄워서 쓰기\n",
    "        print('\\n'.join([\n",
    "            \"이름 : {}\",\n",
    "            \"무게 : {}\",\n",
    "            \"키 : {}\",\n",
    "            \"BMI : {}\",\n",
    "            \"결과 : {}\"\n",
    "        ]).format(name, weight, height, bmi, result))\n",
    "        print()\n",
    "     \n",
    "        "
   ]
  },
  {
   "cell_type": "markdown",
   "metadata": {},
   "source": [
    "#9. join \n",
    "\n",
    "1::2::3::4::5::6\n"
   ]
  },
  {
   "cell_type": "code",
   "execution_count": null,
   "metadata": {},
   "outputs": [],
   "source": [
    "numbers = [1,2,3,4,5,6]\n",
    "print(\"::\".join(map(str, numbers)))"
   ]
  },
  {
   "cell_type": "markdown",
   "metadata": {},
   "source": [
    "#10. 람다 "
   ]
  },
  {
   "cell_type": "code",
   "execution_count": null,
   "metadata": {},
   "outputs": [],
   "source": [
    "numbers = list(range(1,10+1))\n",
    "\n",
    "print(\"홀수만 추출하기\")\n",
    "print(list(filter(lambda x:x%2==1, numbers)))\n",
    "print()\n",
    "\n",
    "print(\"3이상, 7미만 추출하기\")\n",
    "print(list(filter(lambda x: 3<= x <7, numbers)))\n",
    "\n",
    "print(\"# 제곱해서 50 미만 추출하기\")\n",
    "print(list(filter(lambda x:x**2 <50, numbers)))"
   ]
  },
  {
   "cell_type": "markdown",
   "metadata": {},
   "source": [
    "#11. 책값 추출하기 (딕셔너리에서 최소, 최대 등 내장함수 쓰기)"
   ]
  },
  {
   "cell_type": "code",
   "execution_count": null,
   "metadata": {},
   "outputs": [],
   "source": [
    "# lambda 이용\n",
    "books = [{\n",
    "    \"제목\" : \"혼공파\",\n",
    "    \"가격\" : 118000\n",
    "},{\n",
    "    \"제목\" : \"혼자공부하는 머신러닝+딥러닝\",\n",
    "    \"가격\" : 26000\n",
    "},{\n",
    "    \"제목\" : \"혼자 공부하는 자바스크립트\",\n",
    "    \"가격\" : 24000\n",
    "}]\n",
    "\n",
    "print(\"#가장 저렴한 책\")\n",
    "print(min(books, key = lambda bok:bok[\"가격\"]))\n",
    "print()\n",
    "\n",
    "# print(\"가장 비싼 책\")\n",
    "# print(max(books, key= lambda book:book[\"가격\"]))"
   ]
  }
 ],
 "metadata": {
  "kernelspec": {
   "display_name": "Python 3",
   "language": "python",
   "name": "python3"
  },
  "language_info": {
   "codemirror_mode": {
    "name": "ipython",
    "version": 3
   },
   "file_extension": ".py",
   "mimetype": "text/x-python",
   "name": "python",
   "nbconvert_exporter": "python",
   "pygments_lexer": "ipython3",
   "version": "3.10.13"
  }
 },
 "nbformat": 4,
 "nbformat_minor": 2
}
