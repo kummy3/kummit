{
 "cells": [
  {
   "cell_type": "markdown",
   "metadata": {},
   "source": [
    "#1. [For, key, dict] 게임캐릭터 특징 출력\n",
    "\n",
    "출력 :\n",
    "\n",
    "name : 기사\n",
    "level : 12\n",
    "items : 불꽃의 검\n",
    "items : 풀플레이트\n",
    "skill : 베기\n",
    "skill : 세게 베기\n",
    "skill : 아주 세게 베기"
   ]
  },
  {
   "cell_type": "markdown",
   "metadata": {},
   "source": [
    "** 주의 **\n",
    "else는 바로 위 If 와 세트. \n",
    "\n",
    "if문이 여러개이면 앞에 if문에 걸렸더라도 else에 걸릴수 있다"
   ]
  },
  {
   "cell_type": "code",
   "execution_count": null,
   "metadata": {},
   "outputs": [],
   "source": [
    "\n",
    "character = {\n",
    "    \"name\" : \"기사\",\n",
    "    \"level\" : 12,\n",
    "    \"items\": {\n",
    "        \"sword\" : \"불꽃의 검\",\n",
    "        \"armor\" : \"풀플레이트\"\n",
    "    },\n",
    "    \"skill\": [\"베기\", \"세게 베기\", \"아주 세게 베기\"]\n",
    "}"
   ]
  },
  {
   "cell_type": "code",
   "execution_count": 404,
   "metadata": {},
   "outputs": [
    {
     "name": "stdout",
     "output_type": "stream",
     "text": [
      "name : 기사\n",
      "level : 12\n",
      "items : 불꽃의 검\n",
      "items : 풀플레이트\n",
      "skill : 베기\n",
      "skill : 세게 베기\n",
      "skill : 아주 세게 베기\n"
     ]
    }
   ],
   "source": [
    "\n",
    "character = {\n",
    "    \"name\" : \"기사\",\n",
    "    \"level\" : 12,\n",
    "    \"items\": {\n",
    "        \"sword\" : \"불꽃의 검\",\n",
    "        \"armor\" : \"풀플레이트\"\n",
    "    },\n",
    "    \"skill\": [\"베기\", \"세게 베기\", \"아주 세게 베기\"]\n",
    "}\n",
    "\n",
    "for key in character:\n",
    "    if type(character[key]) is dict:\n",
    "        for small_key in character[key]:\n",
    "            print(f\"{key} : {character[key][small_key]}\")\n",
    "    elif type(character[key]) is list:\n",
    "        for item in character[key]:\n",
    "            print(f\"{key} : {item}\")\n",
    "    else : \n",
    "        print(f\"{key} : {character[key]}\")"
   ]
  },
  {
   "cell_type": "code",
   "execution_count": 364,
   "metadata": {},
   "outputs": [
    {
     "name": "stdout",
     "output_type": "stream",
     "text": [
      "name : 기사\n",
      "level : 12\n",
      "items : 불꽃의 검\n",
      "items : 풀플레이트\n",
      "skill : 베기\n",
      "skill : 세게 베기\n",
      "skill : 아주 세게 베기\n"
     ]
    }
   ],
   "source": [
    "\n",
    "character = {\n",
    "    \"name\" : \"기사\",\n",
    "    \"level\" : 12,\n",
    "    \"items\": {\n",
    "        \"sword\" : \"불꽃의 검\",\n",
    "        \"armor\" : \"풀플레이트\"\n",
    "    },\n",
    "    \"skill\": [\"베기\", \"세게 베기\", \"아주 세게 베기\"]\n",
    "}\n",
    "\n",
    "for key in character:\n",
    "    if type(character[key]) is dict:\n",
    "        for small_key in character[key]:\n",
    "            print(f\"{key} : {character[key][small_key]}\")\n",
    "    elif type(character[key]) is list :\n",
    "        for i in character[key]:\n",
    "            print(f\"{key} : {i}\")\n",
    "    else : print(f\"{key} : {character[key]}\")"
   ]
  },
  {
   "cell_type": "code",
   "execution_count": 360,
   "metadata": {},
   "outputs": [
    {
     "name": "stdout",
     "output_type": "stream",
     "text": [
      "name : 기사\n",
      "level : 12\n",
      "items : 불꽃의 검\n",
      "items : 풀플레이트\n",
      "skill : 베기\n",
      "skill : 세게 베기\n",
      "skill : 아주 세게 베기\n"
     ]
    }
   ],
   "source": [
    "\n",
    "character = {\n",
    "    \"name\" : \"기사\",\n",
    "    \"level\" : 12,\n",
    "    \"items\": {\n",
    "        \"sword\" : \"불꽃의 검\",\n",
    "        \"armor\" : \"풀플레이트\"\n",
    "    },\n",
    "    \"skill\": [\"베기\", \"세게 베기\", \"아주 세게 베기\"]\n",
    "}\n",
    "\n",
    "for key in character:\n",
    "    if type(character[key]) is dict:\n",
    "        for small_key in character[key]:\n",
    "            print(key, \":\", character[key][small_key]) \n",
    "            \n",
    "    elif type(character[key]) is list:\n",
    "        for i in character[key]:\n",
    "            print(key,\":\",i)\n",
    "    else : print(key,\":\", character[key])"
   ]
  },
  {
   "cell_type": "code",
   "execution_count": 319,
   "metadata": {},
   "outputs": [
    {
     "name": "stdout",
     "output_type": "stream",
     "text": [
      "name : 기사\n",
      "level : 12\n",
      "items :불꽃의 검 \n",
      "items :풀플레이트 \n",
      "skill : 베기\n",
      "skill : 세게 베기\n",
      "skill : 아주 세게 베기\n"
     ]
    }
   ],
   "source": [
    "\n",
    "character = {\n",
    "    \"name\" : \"기사\",\n",
    "    \"level\" : 12,\n",
    "    \"items\": {\n",
    "        \"sword\" : \"불꽃의 검\",\n",
    "        \"armor\" : \"풀플레이트\"\n",
    "    },\n",
    "    \"skill\": [\"베기\", \"세게 베기\", \"아주 세게 베기\"]\n",
    "}\n",
    "\n",
    "for key in character:\n",
    "    if type(character[key]) is dict:\n",
    "        for small_key in character[key]:\n",
    "            print(f\"{key} :{character[key][small_key]} \")\n",
    "            \n",
    "    elif type(character[key]) is list:\n",
    "        for i in character[key]:\n",
    "            print(f\"{key} : {i}\")\n",
    "    \n",
    "    else: \n",
    "        print(f\"{key} : {character[key]}\")"
   ]
  },
  {
   "cell_type": "code",
   "execution_count": 234,
   "metadata": {},
   "outputs": [
    {
     "name": "stdout",
     "output_type": "stream",
     "text": [
      "name : 기사\n",
      "level : 12\n",
      "items : 불꽃의 검\n",
      "items : 풀플레이트\n",
      "skill : 베기\n",
      "skill : 세게 베기\n",
      "skill : 아주 세게 베기\n"
     ]
    }
   ],
   "source": [
    "character = {\n",
    "    \"name\" : \"기사\",\n",
    "    \"level\" : 12,\n",
    "    \"items\": {\n",
    "        \"sword\" : \"불꽃의 검\",\n",
    "        \"armor\" : \"풀플레이트\"\n",
    "    },\n",
    "    \"skill\": [\"베기\", \"세게 베기\", \"아주 세게 베기\"]\n",
    "}\n",
    "\n",
    "for key in character:\n",
    "    if type(character[key]) is dict:\n",
    "        for small_key in character[key]:\n",
    "            print(f\"{key} : {character[key][small_key]}\")\n",
    "    elif type(character[key]) is list:\n",
    "        for item in character[key]:\n",
    "            print(f\"{key} : {item}\")\n",
    "    else : print(f\"{key} : {character[key]}\")"
   ]
  },
  {
   "cell_type": "code",
   "execution_count": 183,
   "metadata": {},
   "outputs": [
    {
     "name": "stdout",
     "output_type": "stream",
     "text": [
      "name : 기사\n",
      "level : 12\n",
      "items : 불꽃의 검\n",
      "items : 풀플레이트\n",
      "skill : 베기\n",
      "skill : 세게 베기\n",
      "skill : 아주 세게 베기\n"
     ]
    }
   ],
   "source": [
    "character = {\n",
    "    \"name\" : \"기사\",\n",
    "    \"level\" : 12,\n",
    "    \"items\": {\n",
    "        \"sword\" : \"불꽃의 검\",\n",
    "        \"armor\" : \"풀플레이트\"\n",
    "    },\n",
    "    \"skill\": [\"베기\", \"세게 베기\", \"아주 세게 베기\"]\n",
    "}\n",
    "\n",
    "for key in character:\n",
    "    if type(character[key]) is dict :\n",
    "        # print(\"A\")\n",
    "        for small_key in character[key]:\n",
    "            print(f\"{key} : {character[key][small_key]}\")\n",
    "    elif type(character[key]) is list :\n",
    "        for item in character[key]:\n",
    "            print(f\"{key} : {item}\")\n",
    "    else :\n",
    "        print(f\"{key} : {character[key]}\")\n",
    "            \n"
   ]
  },
  {
   "cell_type": "code",
   "execution_count": 112,
   "metadata": {},
   "outputs": [
    {
     "name": "stdout",
     "output_type": "stream",
     "text": [
      "name 기사\n",
      "level 12\n",
      "sword : 불꽃의 검\n",
      "armor : 풀플레이트\n",
      "skill : 베기\n",
      "skill : 세게 베기\n",
      "skill : 아주 세게 베기\n"
     ]
    }
   ],
   "source": [
    "character = {\n",
    "    \"name\" : \"기사\",\n",
    "    \"level\" : 12,\n",
    "    \"items\": {\n",
    "        \"sword\" : \"불꽃의 검\",\n",
    "        \"armor\" : \"풀플레이트\"\n",
    "    },\n",
    "    \"skill\": [\"베기\", \"세게 베기\", \"아주 세게 베기\"]\n",
    "}\n",
    "\n",
    "for key in character:\n",
    "    if type(character[key]) is dict:\n",
    "        for small_key in character[key]:\n",
    "            print(small_key,\":\", character[key][small_key])\n",
    "    elif type(character[key]) is list:\n",
    "        for item in character[key]:\n",
    "            print(key, \":\", item)\n",
    "    else : print(key, character[key])\n"
   ]
  },
  {
   "cell_type": "code",
   "execution_count": 113,
   "metadata": {},
   "outputs": [
    {
     "name": "stdout",
     "output_type": "stream",
     "text": [
      "name : 기사\n",
      "level : 12\n",
      "items : 불꽃의 검\n",
      "items : 풀플레이트\n",
      "skill : 베기\n",
      "skill : 세게 베기\n",
      "skill : 아주 세게 베기\n"
     ]
    }
   ],
   "source": [
    "character = {\n",
    "    \"name\" : \"기사\",\n",
    "    \"level\" : 12,\n",
    "    \"items\": {\n",
    "        \"sword\" : \"불꽃의 검\",\n",
    "        \"armor\" : \"풀플레이트\"\n",
    "    },\n",
    "    \"skill\": [\"베기\", \"세게 베기\", \"아주 세게 베기\"]\n",
    "}\n",
    "\n",
    "for key in character:\n",
    "    if type(character[key]) is dict:\n",
    "        for small_key in character[key]:\n",
    "            print(key, \":\", character[key][small_key])\n",
    "            \n",
    "    elif type(character[key]) is list:\n",
    "        for item in character[key]:\n",
    "            print(key, \":\", item)\n",
    "            \n",
    "    else : print(key, \":\", character[key])\n"
   ]
  },
  {
   "cell_type": "code",
   "execution_count": 114,
   "metadata": {},
   "outputs": [
    {
     "name": "stdout",
     "output_type": "stream",
     "text": [
      "name : 기사\n",
      "level : 12\n",
      "items : 불꽃의 검\n",
      "items : 풀플레이트\n",
      "skill : 베기\n",
      "skill : 세게 베기\n",
      "skill : 아주 세게 베기\n"
     ]
    }
   ],
   "source": [
    "character = {\n",
    "    \"name\" : \"기사\",\n",
    "    \"level\" : 12,\n",
    "    \"items\": {\n",
    "        \"sword\" : \"불꽃의 검\",\n",
    "        \"armor\" : \"풀플레이트\"\n",
    "    },\n",
    "    \"skill\": [\"베기\", \"세게 베기\", \"아주 세게 베기\"]\n",
    "}\n",
    "\n",
    "for key in character :\n",
    "    if type(character[key]) is dict:\n",
    "        for small_key in character[key]:\n",
    "            print(key, \":\", character[key][small_key])\n",
    "    elif type(character[key]) is list:\n",
    "        for item in character[key]:\n",
    "            print(key, \":\", item)\n",
    "    else :\n",
    "        print(key, \":\", character[key])"
   ]
  },
  {
   "cell_type": "code",
   "execution_count": 30,
   "metadata": {},
   "outputs": [
    {
     "name": "stdout",
     "output_type": "stream",
     "text": [
      "name : 기사\n",
      "level : 12\n",
      "sword : 불꽃의 검\n",
      "armor : 풀플레이트\n",
      "skill : 베기\n",
      "skill : 세게 베기\n",
      "skill : 아주 세게 베기\n"
     ]
    }
   ],
   "source": [
    "character = {\n",
    "    \"name\" : \"기사\",\n",
    "    \"level\" : 12,\n",
    "    \"items\": {\n",
    "        \"sword\" : \"불꽃의 검\",\n",
    "        \"armor\" : \"풀플레이트\"\n",
    "    },\n",
    "    \"skill\": [\"베기\", \"세게 베기\", \"아주 세게 베기\"]\n",
    "}\n",
    "\n",
    "for key in character:\n",
    "    if type(character[key]) is dict:\n",
    "        for small_key in character[key]:\n",
    "            print(small_key, \":\", character[key][small_key])\n",
    "    elif type(character[key]) is list:\n",
    "            for item in character[key]:\n",
    "                print(key, \":\", item)\n",
    "    else : \n",
    "        print(key, \":\", character[key])"
   ]
  },
  {
   "cell_type": "code",
   "execution_count": 31,
   "metadata": {},
   "outputs": [
    {
     "name": "stdout",
     "output_type": "stream",
     "text": [
      "{'name': '기사', 'hp': 200, 'mp': 30, 'level': 5}\n"
     ]
    }
   ],
   "source": [
    "key_list = [\"name\", \"hp\", \"mp\", \"level\"]\n",
    "value_list = [\"기사\", 200, 30, 5]\n",
    "character = {}\n",
    "\n",
    "for i in range(0, len(key_list)):\n",
    "    character[key_list[i]] = value_list[i]\n",
    "\n",
    "# 최종 출력\n",
    "print(character)"
   ]
  },
  {
   "cell_type": "markdown",
   "metadata": {},
   "source": [
    "#1-1) \n",
    "출력:\n",
    "\n",
    "{'name': '기사', 'hp': 200, 'mp': 30, 'level': 5}"
   ]
  },
  {
   "cell_type": "code",
   "execution_count": null,
   "metadata": {},
   "outputs": [],
   "source": [
    "key_list = [\"name\", \"hp\", \"mp\", \"level\"]\n",
    "value_list = [\"기사\", 200, 30, 5]\n",
    "character = {}\n"
   ]
  },
  {
   "cell_type": "code",
   "execution_count": 366,
   "metadata": {},
   "outputs": [
    {
     "data": {
      "text/plain": [
       "{'name': '기사', 'hp': 200, 'mp': 30, 'level': 5}"
      ]
     },
     "execution_count": 366,
     "metadata": {},
     "output_type": "execute_result"
    }
   ],
   "source": [
    "\n",
    "key_list = [\"name\", \"hp\", \"mp\", \"level\"]\n",
    "value_list = [\"기사\", 200, 30, 5]\n",
    "character = {}\n",
    "\n",
    "for i in range(0, len(key_list)):\n",
    "    character[key_list[i]] = value_list[i]\n",
    "character"
   ]
  },
  {
   "cell_type": "code",
   "execution_count": 362,
   "metadata": {},
   "outputs": [
    {
     "data": {
      "text/plain": [
       "dict"
      ]
     },
     "execution_count": 363,
     "metadata": {},
     "output_type": "execute_result"
    }
   ],
   "source": [
    "key_list = [\"name\", \"hp\", \"mp\", \"level\"]\n",
    "value_list = [\"기사\", 200, 30, 5]\n",
    "character = {}\n",
    "\n",
    "for i in range(0, len(key_list)):\n",
    "    character[key_list[i]] = value_list[i]\n",
    "    \n",
    "character\n"
   ]
  },
  {
   "cell_type": "code",
   "execution_count": 292,
   "metadata": {},
   "outputs": [
    {
     "name": "stdout",
     "output_type": "stream",
     "text": [
      "{'name': '기사', 'hp': 200, 'mp': 30, 'level': 5}\n"
     ]
    }
   ],
   "source": [
    "key_list = [\"name\", \"hp\", \"mp\", \"level\"]\n",
    "value_list = [\"기사\", 200, 30, 5]\n",
    "character = {}\n",
    "\n",
    "for i in range(0, len(key_list)):\n",
    "    character[key_list[i]] = value_list[i]\n",
    "    \n",
    "print(character)"
   ]
  },
  {
   "cell_type": "code",
   "execution_count": 235,
   "metadata": {},
   "outputs": [
    {
     "data": {
      "text/plain": [
       "{'name': '기사', 'hp': 200, 'mp': 30, 'level': 5}"
      ]
     },
     "execution_count": 235,
     "metadata": {},
     "output_type": "execute_result"
    }
   ],
   "source": [
    "key_list = [\"name\", \"hp\", \"mp\", \"level\"]\n",
    "value_list = [\"기사\", 200, 30, 5]\n",
    "character = {}\n",
    "\n",
    "for i in range(0, len(key_list)):\n",
    "    character[key_list[i]] = value_list[i]\n",
    "    \n",
    "character"
   ]
  },
  {
   "cell_type": "code",
   "execution_count": 185,
   "metadata": {},
   "outputs": [
    {
     "data": {
      "text/plain": [
       "{'name': '기사', 'hp': 200, 'mp': 30, 'level': 5}"
      ]
     },
     "execution_count": 185,
     "metadata": {},
     "output_type": "execute_result"
    }
   ],
   "source": [
    "key_list = [\"name\", \"hp\", \"mp\", \"level\"]\n",
    "value_list = [\"기사\", 200, 30, 5]\n",
    "character = {}\n",
    "\n",
    "for i in range(0, len(key_list)):\n",
    "    character[key_list[i]] = value_list[i]\n",
    "    \n",
    "character"
   ]
  },
  {
   "cell_type": "code",
   "execution_count": 119,
   "metadata": {},
   "outputs": [
    {
     "data": {
      "text/plain": [
       "{'name': '기사', 'hp': 200, 'mp': 30, 'level': 5}"
      ]
     },
     "execution_count": 119,
     "metadata": {},
     "output_type": "execute_result"
    }
   ],
   "source": [
    "key_list = [\"name\", \"hp\", \"mp\", \"level\"]\n",
    "value_list = [\"기사\", 200, 30, 5]\n",
    "character = {}\n",
    "\n",
    "for i in range(0, len(key_list)):\n",
    "    character[key_list[i]] = value_list[i]\n",
    "    \n",
    "character"
   ]
  },
  {
   "cell_type": "code",
   "execution_count": 118,
   "metadata": {},
   "outputs": [
    {
     "data": {
      "text/plain": [
       "{'name': '기사', 'hp': 200, 'mp': 30, 'level': 5}"
      ]
     },
     "execution_count": 118,
     "metadata": {},
     "output_type": "execute_result"
    }
   ],
   "source": [
    "key_list = [\"name\", \"hp\", \"mp\", \"level\"]\n",
    "value_list = [\"기사\", 200, 30, 5]\n",
    "character = {}\n",
    "\n",
    "for i in range(0, len(key_list)):\n",
    "    character[key_list[i]] = value_list[i] \n",
    "\n",
    "character"
   ]
  },
  {
   "cell_type": "code",
   "execution_count": 32,
   "metadata": {},
   "outputs": [
    {
     "data": {
      "text/plain": [
       "{'name': '기사', 'hp': 200, 'mp': 30, 'level': 5}"
      ]
     },
     "execution_count": 32,
     "metadata": {},
     "output_type": "execute_result"
    }
   ],
   "source": [
    "key_list = [\"name\", \"hp\", \"mp\", \"level\"]\n",
    "value_list = [\"기사\", 200, 30, 5]\n",
    "character = {}\n",
    "\n",
    "for i in range(0, len(key_list)):\n",
    "    character[key_list[i]] = value_list[i]\n",
    "    \n",
    "    \n",
    "character"
   ]
  },
  {
   "cell_type": "code",
   "execution_count": 33,
   "metadata": {},
   "outputs": [
    {
     "name": "stdout",
     "output_type": "stream",
     "text": [
      "{'name': '기사', 'hp': 200, 'mp': 30, 'level': 5}\n"
     ]
    }
   ],
   "source": [
    "key_list = [\"name\", \"hp\", \"mp\", \"level\"]\n",
    "value_list = [\"기사\", 200, 30, 5]\n",
    "character = {}\n",
    "\n",
    "for i in range(0,len(key_list)):\n",
    "    character[key_list[i]] = value_list[i]\n",
    "    # character[key] = value_list[key]\n",
    "    \n",
    "print(character)"
   ]
  },
  {
   "cell_type": "markdown",
   "metadata": {},
   "source": [
    "✅#2. 리스트 평탄화"
   ]
  },
  {
   "cell_type": "code",
   "execution_count": null,
   "metadata": {},
   "outputs": [],
   "source": [
    "# 리스트 평탄화\n",
    "a = [1,2,[3,4],5,[6,7],[8,9]]\n",
    "output = []\n"
   ]
  },
  {
   "cell_type": "code",
   "execution_count": 371,
   "metadata": {},
   "outputs": [
    {
     "data": {
      "text/plain": [
       "[1, 2, 3, 4, 5, 6, 7, 8, 9]"
      ]
     },
     "execution_count": 371,
     "metadata": {},
     "output_type": "execute_result"
    }
   ],
   "source": [
    "# 리스트 평탄화\n",
    "a = [1,2,[3,4],5,[6,7],[8,9]]\n",
    "output = []\n",
    "\n",
    "for item in a:\n",
    "    if type(item) is list:\n",
    "        for j in item :\n",
    "            output.append(j)\n",
    "    else: output.append(item)\n",
    "    \n",
    "output\n",
    "\n"
   ]
  },
  {
   "cell_type": "code",
   "execution_count": 290,
   "metadata": {},
   "outputs": [
    {
     "name": "stdout",
     "output_type": "stream",
     "text": [
      "[1, 2, 3, 4, 5, 6, 7, 8, 9]\n"
     ]
    }
   ],
   "source": [
    "# 리스트 평탄화\n",
    "a = [1,2,[3,4],5,[6,7],[8,9]]\n",
    "output = []\n",
    "\n",
    "for i in a :\n",
    "    if type(i) is list:\n",
    "        for j in i :\n",
    "            output.append(j)\n",
    "    else: output.append(i)\n",
    "    \n",
    "print(output)\n"
   ]
  },
  {
   "cell_type": "code",
   "execution_count": 236,
   "metadata": {},
   "outputs": [
    {
     "data": {
      "text/plain": [
       "[1, 2, 3, 4, 5, 6, 7, 8, 9]"
      ]
     },
     "execution_count": 236,
     "metadata": {},
     "output_type": "execute_result"
    }
   ],
   "source": [
    "# 리스트 평탄화\n",
    "a = [1,2,[3,4],5,[6,7],[8,9]]\n",
    "output = []\n",
    "\n",
    "for i in a:\n",
    "    if type(i) is list:\n",
    "        for j in i :\n",
    "            output.append(j)\n",
    "    else: output.append(i)\n",
    "    \n",
    "output"
   ]
  },
  {
   "cell_type": "code",
   "execution_count": 188,
   "metadata": {},
   "outputs": [
    {
     "data": {
      "text/plain": [
       "[1, 2, 3, 4, 5, 6, 7, 8, 9]"
      ]
     },
     "execution_count": 188,
     "metadata": {},
     "output_type": "execute_result"
    }
   ],
   "source": [
    "# 리스트 평탄화\n",
    "a = [1,2,[3,4],5,[6,7],[8,9]]\n",
    "output = []\n",
    "\n",
    "for i in a :\n",
    "    if type(i) is list:\n",
    "        for j in i :\n",
    "            output.append(j)\n",
    "    else : output.append(i)\n",
    "    \n",
    "# print(output) \n",
    "output\n"
   ]
  },
  {
   "cell_type": "code",
   "execution_count": 121,
   "metadata": {},
   "outputs": [
    {
     "data": {
      "text/plain": [
       "[1, 2, 3, 4, 5, 6, 7, 8, 9]"
      ]
     },
     "execution_count": 121,
     "metadata": {},
     "output_type": "execute_result"
    }
   ],
   "source": [
    "# 리스트 평탄화\n",
    "a = [1,2,[3,4],5,[6,7],[8,9]]\n",
    "output = []\n",
    "\n",
    "for i in range(0, len(a)):\n",
    "    if type(a[i]) is list:\n",
    "        for j in a[i]:\n",
    "            output.append(j)\n",
    "    else : output.append(a[i])\n",
    "    \n",
    "output"
   ]
  },
  {
   "cell_type": "code",
   "execution_count": 34,
   "metadata": {},
   "outputs": [
    {
     "data": {
      "text/plain": [
       "[1, 2, 3, 4, 5, 6, 7, 8, 9]"
      ]
     },
     "execution_count": 34,
     "metadata": {},
     "output_type": "execute_result"
    }
   ],
   "source": [
    "# 리스트 평탄화\n",
    "a = [1,2,[3,4],5,[6,7],[8,9]]\n",
    "output = []\n",
    "\n",
    "for i in range(0, len(a)):\n",
    "    if type(a[i]) is list:\n",
    "        for j in a[i]:\n",
    "            output.append(j)\n",
    "    else :\n",
    "        output.append(a[i])\n",
    "\n",
    "\n",
    "output"
   ]
  },
  {
   "cell_type": "code",
   "execution_count": 35,
   "metadata": {},
   "outputs": [
    {
     "name": "stdout",
     "output_type": "stream",
     "text": [
      "[1, 2, [3, 4], 5, [6, 7], [8, 9]]를 평탄화하면\n",
      "[1, 2, 3, 4, 5, 6, 7, 8, 9]입니다\n"
     ]
    }
   ],
   "source": [
    "\n",
    "# 리스트 평탄화\n",
    "a = [1,2,[3,4],5,[6,7],[8,9]]\n",
    "output = []\n",
    "\n",
    "for i in a:\n",
    "    if type(i)==list:\n",
    "        for j in i:\n",
    "            output.append(j)\n",
    "    else :\n",
    "        output.append(i)\n",
    "\n",
    "print(f\"{a}를 평탄화하면\")\n",
    "print(f\"{output}입니다\")"
   ]
  },
  {
   "cell_type": "code",
   "execution_count": 36,
   "metadata": {},
   "outputs": [
    {
     "data": {
      "text/plain": [
       "[1, 2, 3, 4, 5, 6, 7, 8, 9]"
      ]
     },
     "execution_count": 36,
     "metadata": {},
     "output_type": "execute_result"
    }
   ],
   "source": [
    "# 리스트 평탄화\n",
    "a = [1,2,[3,4],5,[6,7],[8,9]]\n",
    "output = []\n",
    "\n",
    "for item in a :\n",
    "    if type(item) == list :\n",
    "        for j in item:\n",
    "            output.append(j)\n",
    "    else : \n",
    "        output.append(item)\n",
    "        \n",
    "\n",
    "output"
   ]
  },
  {
   "cell_type": "markdown",
   "metadata": {},
   "source": [
    "#3. 염기서열 출력(한개씩)\n",
    "각 c, t, a, g, 가 몇개인지 출력하세요\n",
    "\n",
    "c 의 갯수 : 9개\n",
    "t 의 갯수 : 9개\n",
    "a 의 갯수 : 9개\n",
    "g 의 갯수 : 6개"
   ]
  },
  {
   "cell_type": "code",
   "execution_count": null,
   "metadata": {},
   "outputs": [],
   "source": [
    "nucleos = \"ctacaatgtcagtatacccattgcattagccgg\"\n"
   ]
  },
  {
   "cell_type": "code",
   "execution_count": 375,
   "metadata": {},
   "outputs": [
    {
     "data": {
      "text/plain": [
       "{'c': 9, 't': 9, 'g': 6, 'a': 9}"
      ]
     },
     "execution_count": 375,
     "metadata": {},
     "output_type": "execute_result"
    }
   ],
   "source": [
    "nucleos = \"ctacaatgtcagtatacccattgcattagccgg\"\n",
    "counter = {'c':0, 't':0, 'g':0, 'a':0}\n",
    "for nucleo in nucleos:\n",
    "    if nucleo in counter:\n",
    "        counter[nucleo] += 1\n",
    "    else: counter[nucleo] += 1\n",
    "    \n",
    "counter"
   ]
  },
  {
   "cell_type": "code",
   "execution_count": 356,
   "metadata": {},
   "outputs": [
    {
     "data": {
      "text/plain": [
       "{'c': 9, 'g': 6, 't': 9, 'a': 9, 'k': 2}"
      ]
     },
     "execution_count": 356,
     "metadata": {},
     "output_type": "execute_result"
    }
   ],
   "source": [
    "nucleos = \"ctacaatgtcagtatacccattgcattagccggkk\"\n",
    "counter = {\n",
    "    'c':0,\n",
    "    'g':0,\n",
    "    't':0,\n",
    "    'a':0\n",
    "}\n",
    "\n",
    "for nucleo in nucleos:\n",
    "    if nucleo in counter :\n",
    "        counter[nucleo] += 1\n",
    "    else : \n",
    "        counter[nucleo] = 1\n",
    "        \n",
    "counter"
   ]
  },
  {
   "cell_type": "code",
   "execution_count": 354,
   "metadata": {},
   "outputs": [
    {
     "data": {
      "text/plain": [
       "{'c': 9, 't': 9, 'a': 9, 'g': 6, 'k': 2}"
      ]
     },
     "execution_count": 354,
     "metadata": {},
     "output_type": "execute_result"
    }
   ],
   "source": [
    "nucleos = \"ctacaatgtcagtatacccattgcattagccggkk\"\n",
    "counter = {\n",
    "    'c' : 0,\n",
    "    't' : 0,\n",
    "    'a' : 0,\n",
    "    'g' : 0\n",
    "}\n",
    "\n",
    "for item in nucleos:\n",
    "    if item not in counter:\n",
    "        counter[item] = 0\n",
    "    counter[item] += 1\n",
    "    \n",
    "counter"
   ]
  },
  {
   "cell_type": "code",
   "execution_count": 237,
   "metadata": {},
   "outputs": [
    {
     "data": {
      "text/plain": [
       "{'c': 9, 't': 9, 'g': 6, 'a': 9}"
      ]
     },
     "execution_count": 237,
     "metadata": {},
     "output_type": "execute_result"
    }
   ],
   "source": [
    "nucleos = \"ctacaatgtcagtatacccattgcattagccgg\"\n",
    "counter ={\n",
    "    \"c\":0,\n",
    "    \"t\" : 0,\n",
    "    \"g\" : 0,\n",
    "    \"a\" : 0\n",
    "}\n",
    "\n",
    "for nucleo in nucleos:\n",
    "    if nucleo in counter:\n",
    "        counter[nucleo] += 1\n",
    "    else :\n",
    "        counter[nucleo] = 1\n",
    "    \n",
    "    \n",
    "counter"
   ]
  },
  {
   "cell_type": "code",
   "execution_count": 190,
   "metadata": {},
   "outputs": [
    {
     "name": "stdout",
     "output_type": "stream",
     "text": [
      "c의 갯수 : 9개\n",
      "t의 갯수 : 9개\n",
      "a의 갯수 : 9개\n",
      "g의 갯수 : 6개\n"
     ]
    }
   ],
   "source": [
    "nucleos = \"ctacaatgtcagtatacccattgcattagccgg\"\n",
    "counter = {\n",
    "    'c' : 0,\n",
    "    't' : 0,\n",
    "    'a' : 0,\n",
    "    'g' : 0\n",
    "}\n",
    "\n",
    "for nucleo in nucleos:\n",
    "    if nucleo in counter:\n",
    "        counter[nucleo] += 1\n",
    "    else : \n",
    "        counter[nucleo] = 0\n",
    "    \n",
    "counter\n",
    "for i in counter :\n",
    "    print(f\"{i}의 갯수 : {counter[i]}개\")"
   ]
  },
  {
   "cell_type": "code",
   "execution_count": 127,
   "metadata": {},
   "outputs": [
    {
     "name": "stdout",
     "output_type": "stream",
     "text": [
      "c의 개수 : 9개\n",
      "t의 개수 : 9개\n",
      "g의 개수 : 6개\n",
      "a의 개수 : 9개\n"
     ]
    }
   ],
   "source": [
    "nucleos = \"ctacaatgtcagtatacccattgcattagccgg\"\n",
    "counter = {\n",
    "    \"c\" : 0,\n",
    "    \"t\" : 0,\n",
    "    \"g\" : 0,\n",
    "    \"a\" : 0\n",
    "}\n",
    "\n",
    "for nucleo in nucleos:\n",
    "    if nucleo in counter:\n",
    "        counter[nucleo] += 1\n",
    "    else:\n",
    "        counter[nucleo] = 0\n",
    "\n",
    "\n",
    "counter\n",
    "for i in counter:\n",
    "    print(f\"{i}의 개수 : {counter[i]}개\")"
   ]
  },
  {
   "cell_type": "code",
   "execution_count": 37,
   "metadata": {},
   "outputs": [
    {
     "name": "stdout",
     "output_type": "stream",
     "text": [
      "c : 9개\n",
      "t : 9개\n",
      "a : 9개\n",
      "g : 6개\n"
     ]
    }
   ],
   "source": [
    "nucleos = \"ctacaatgtcagtatacccattgcattagccgg\"\n",
    "counter = {\n",
    "    'c' : 0,\n",
    "    't' : 0,\n",
    "    'a' : 0,\n",
    "    'g' : 0\n",
    "}\n",
    "for nucleo in nucleos:\n",
    "    if nucleo in counter:\n",
    "        counter[nucleo] += 1\n",
    "    else : counter[nucleo] = 0\n",
    "    \n",
    "counter\n",
    "\n",
    "for item in counter :\n",
    "    print(f\"{item} : {counter[item]}개\")"
   ]
  },
  {
   "cell_type": "code",
   "execution_count": 38,
   "metadata": {},
   "outputs": [
    {
     "data": {
      "text/plain": [
       "{'c': 9, 't': 9, 'a': 9, 'g': 6}"
      ]
     },
     "execution_count": 38,
     "metadata": {},
     "output_type": "execute_result"
    }
   ],
   "source": [
    "nucleos = \"ctacaatgtcagtatacccattgcattagccgg\"\n",
    "counter = {\n",
    "    'c' : 0,\n",
    "    't' : 0,\n",
    "    'a' : 0,\n",
    "    'g' : 0\n",
    "}\n",
    "#print(len(nucleos))\n",
    "for nucleo in nucleos:\n",
    "    counter[nucleo]+=1\n",
    "\n",
    "    # if nucleo in counter['nucleo']:\n",
    "    #         print(nucleo)\n",
    "\n",
    "    # else : counter[nucleo] = 0\n",
    "\n",
    "counter"
   ]
  },
  {
   "cell_type": "code",
   "execution_count": 39,
   "metadata": {},
   "outputs": [
    {
     "name": "stdout",
     "output_type": "stream",
     "text": [
      "c 의 갯수 : 9개\n",
      "t 의 갯수 : 9개\n",
      "a 의 갯수 : 9개\n",
      "g 의 갯수 : 6개\n",
      "{'c': 9, 't': 9, 'a': 9, 'g': 6}\n"
     ]
    }
   ],
   "source": [
    "nucleos = \"ctacaatgtcagtatacccattgcattagccgg\"\n",
    "counter = {\n",
    "    'c' : 0,\n",
    "    't' : 0,\n",
    "    'a' : 0,\n",
    "    'g' : 0\n",
    "}\n",
    "\n",
    "for nucleo in nucleos :\n",
    "    counter[nucleo] += 1\n",
    "    \n",
    "for key in counter :\n",
    "    print(f\"{key} 의 갯수 : {counter[key]}개\")\n",
    "print(counter)\n"
   ]
  },
  {
   "cell_type": "markdown",
   "metadata": {},
   "source": [
    "#4. 염기서열의 코돈 출력(3개씩 나오는 것을 코돈)\n",
    "\n",
    "{'cta': 1, 'caa': 1, 'tgt': 1, 'cag': 1, 'tat': 1, 'acc': 1, 'cat': 1, 'tgc': 1, 'att': 1, 'agc': 1, 'cgg': 1}\n"
   ]
  },
  {
   "cell_type": "code",
   "execution_count": 376,
   "metadata": {},
   "outputs": [
    {
     "data": {
      "text/plain": [
       "{'cta': 2,\n",
       " 'caa': 1,\n",
       " 'tgt': 1,\n",
       " 'cag': 1,\n",
       " 'tat': 1,\n",
       " 'acc': 1,\n",
       " 'cat': 1,\n",
       " 'tgc': 1,\n",
       " 'att': 1,\n",
       " 'agc': 1,\n",
       " 'cgg': 2}"
      ]
     },
     "execution_count": 376,
     "metadata": {},
     "output_type": "execute_result"
    }
   ],
   "source": [
    "nucleos = \"ctactacaatgtcagtatacccattgcattagccggcgg\"\n",
    "counter = {}\n",
    "\n",
    "for i in range(0, len(nucleos), 3):\n",
    "    codon = nucleos[i:i+3]\n",
    "    if codon not in counter :\n",
    "        counter[codon] = 1\n",
    "    else : \n",
    "        counter[codon] += 1\n",
    "        \n",
    "        \n",
    "counter\n",
    "    "
   ]
  },
  {
   "cell_type": "code",
   "execution_count": 352,
   "metadata": {},
   "outputs": [
    {
     "name": "stdout",
     "output_type": "stream",
     "text": [
      "cta의 갯수 : 2\n",
      "caa의 갯수 : 1\n",
      "tgt의 갯수 : 1\n",
      "cag의 갯수 : 1\n",
      "tat의 갯수 : 1\n",
      "acc의 갯수 : 1\n",
      "cat의 갯수 : 1\n",
      "tgc의 갯수 : 1\n",
      "att의 갯수 : 1\n",
      "agc의 갯수 : 1\n",
      "cgg의 갯수 : 2\n"
     ]
    }
   ],
   "source": [
    "nucleos = \"ctactacaatgtcagtatacccattgcattagccggcgg\"\n",
    "counter = {}\n",
    "\n",
    "for i in range(0, len(nucleos),3):\n",
    "    codon = nucleos[i:i+3]\n",
    "    if codon not in counter:\n",
    "        counter[codon] = 1\n",
    "    else:\n",
    "        counter[codon] += 1\n",
    "\n",
    "\n",
    "for item in counter:\n",
    "    print(f\"{item}의 갯수 : {counter[item]}\")"
   ]
  },
  {
   "cell_type": "code",
   "execution_count": 285,
   "metadata": {},
   "outputs": [
    {
     "name": "stdout",
     "output_type": "stream",
     "text": [
      "cta의 갯수 : 2\n",
      "caa의 갯수 : 1\n",
      "tgt의 갯수 : 1\n",
      "cag의 갯수 : 1\n",
      "tat의 갯수 : 1\n",
      "acc의 갯수 : 1\n",
      "cat의 갯수 : 1\n",
      "tgc의 갯수 : 1\n",
      "att의 갯수 : 1\n",
      "agc의 갯수 : 1\n",
      "cgg의 갯수 : 2\n"
     ]
    }
   ],
   "source": [
    "nucleos = \"ctactacaatgtcagtatacccattgcattagccggcgg\"\n",
    "counter = {}\n",
    "\n",
    "for i in range(0, len(nucleos), 3):\n",
    "    codon = nucleos[i:i+3]\n",
    "    if codon in counter:\n",
    "        counter[codon] += 1\n",
    "    else :\n",
    "        counter[codon] = 1\n",
    "\n",
    "counter\n",
    "\n",
    "for item in counter:\n",
    "    print(f\"{item}의 갯수 : {counter[item]}\")"
   ]
  },
  {
   "cell_type": "code",
   "execution_count": 239,
   "metadata": {},
   "outputs": [
    {
     "data": {
      "text/plain": [
       "{'cta': 2,\n",
       " 'caa': 1,\n",
       " 'tgt': 1,\n",
       " 'cag': 1,\n",
       " 'tat': 1,\n",
       " 'acc': 1,\n",
       " 'cat': 1,\n",
       " 'tgc': 1,\n",
       " 'att': 1,\n",
       " 'agc': 1,\n",
       " 'cgg': 1}"
      ]
     },
     "execution_count": 239,
     "metadata": {},
     "output_type": "execute_result"
    }
   ],
   "source": [
    "nucleos = \"ctactacaatgtcagtatacccattgcattagccgg\"\n",
    "counter = {}\n",
    "\n",
    "for i in range(0, len(nucleos), 3):\n",
    "    codon = nucleos[i:i+3]\n",
    "    if codon not in counter:\n",
    "        counter[codon] = 0\n",
    "    counter[codon] += 1\n",
    "    \n",
    "\n",
    "counter"
   ]
  },
  {
   "cell_type": "code",
   "execution_count": 191,
   "metadata": {},
   "outputs": [
    {
     "data": {
      "text/plain": [
       "{'cta': 2,\n",
       " 'caa': 1,\n",
       " 'tgt': 1,\n",
       " 'cag': 1,\n",
       " 'tat': 1,\n",
       " 'acc': 1,\n",
       " 'cat': 1,\n",
       " 'tgc': 1,\n",
       " 'att': 1,\n",
       " 'agc': 1,\n",
       " 'cgg': 1}"
      ]
     },
     "execution_count": 191,
     "metadata": {},
     "output_type": "execute_result"
    }
   ],
   "source": [
    "nucleos = \"ctactacaatgtcagtatacccattgcattagccgg\"\n",
    "counter = {}\n",
    "\n",
    "for i in range(0, len(nucleos), 3):\n",
    "    codon = nucleos[i:i+3]\n",
    "    if codon not in counter :\n",
    "        counter[codon] = 1\n",
    "    else : counter[codon] += 1\n",
    "    \n",
    "counter\n",
    " \n",
    "         "
   ]
  },
  {
   "cell_type": "code",
   "execution_count": 148,
   "metadata": {},
   "outputs": [
    {
     "name": "stdout",
     "output_type": "stream",
     "text": [
      "cta : 2개\n",
      "caa : 1개\n",
      "tgt : 1개\n",
      "cag : 1개\n",
      "tat : 1개\n",
      "acc : 1개\n",
      "cat : 1개\n",
      "tgc : 1개\n",
      "att : 1개\n",
      "agc : 1개\n",
      "cgg : 1개\n"
     ]
    }
   ],
   "source": [
    "nucleos = \"ctactacaatgtcagtatacccattgcattagccgg\"\n",
    "counter = {}\n",
    "\n",
    "for i in range(0, len(nucleos), 3):\n",
    "    codon = nucleos[i:i+3]\n",
    "    if codon not in counter:\n",
    "        counter[codon] = 1\n",
    "    else : \n",
    "        counter[codon] += 1\n",
    "\n",
    "counter\n",
    "\n",
    "for item in counter:\n",
    "    print(f\"{item} : {counter[item]}개\")"
   ]
  },
  {
   "cell_type": "code",
   "execution_count": 145,
   "metadata": {},
   "outputs": [
    {
     "name": "stdout",
     "output_type": "stream",
     "text": [
      "{'cta': 1, 'caa': 1, 'tgt': 1, 'cag': 1, 'tat': 1, 'acc': 1, 'cat': 1, 'tgc': 1, 'att': 1, 'agc': 1, 'cgg': 1}\n"
     ]
    }
   ],
   "source": [
    "nucleos = \"ctacaatgtcagtatacccattgcattagccgg\"\n",
    "counter = {}\n",
    "\n",
    "for i in range(0, len(nucleos), 3):\n",
    "    codon = nucleos[i:i+3]\n",
    "    if codon not in counter :\n",
    "        counter[codon] = 1\n",
    "    else:\n",
    "        counter[codon] += 1\n",
    "        \n",
    "print(counter)\n",
    " \n",
    "        "
   ]
  },
  {
   "cell_type": "code",
   "execution_count": 51,
   "metadata": {},
   "outputs": [
    {
     "name": "stdout",
     "output_type": "stream",
     "text": [
      "{'cta': 1, 'caa': 1, 'tgt': 1, 'cag': 1, 'tat': 1, 'acc': 1, 'cat': 1, 'tgc': 1, 'att': 1, 'agc': 1, 'cgg': 1}\n",
      "cta : 1개\n",
      "caa : 1개\n",
      "tgt : 1개\n",
      "cag : 1개\n",
      "tat : 1개\n",
      "acc : 1개\n",
      "cat : 1개\n",
      "tgc : 1개\n",
      "att : 1개\n",
      "agc : 1개\n",
      "cgg : 1개\n"
     ]
    }
   ],
   "source": [
    "nucleos = \"ctacaatgtcagtatacccattgcattagccgg\"\n",
    "counter = {}\n",
    "\n",
    "for i in range(0, len(nucleos), 3):\n",
    "    codon = nucleos[i:i+3]\n",
    "    if codon not in counter:\n",
    "        counter[codon] = 1\n",
    "    else :\n",
    "        counter[codon] += 1\n",
    "        \n",
    "print(counter)\n",
    "\n",
    "for key in counter:\n",
    "    print(f\"{key} : {counter[key]}개\")\n"
   ]
  },
  {
   "cell_type": "code",
   "execution_count": null,
   "metadata": {},
   "outputs": [],
   "source": [
    "nucleos = \"ctacaatgtcagtatacccattgcattagccgg\"\n",
    "counter = {}\n",
    "\n",
    "for i in range(0, len(nucleos), 3):\n",
    "    codon = nucleos[i:i+3]\n",
    "    if len(codon) == 3:\n",
    "        if codon not in counter:\n",
    "            counter[codon] = 0\n",
    "        counter[codon] += 1\n",
    "    \n",
    "print(counter)"
   ]
  },
  {
   "cell_type": "code",
   "execution_count": null,
   "metadata": {},
   "outputs": [],
   "source": [
    "nucleos = \"ctacaatgtcagtatacccattgcattagccgg\"\n",
    "counter = {}\n",
    "\n",
    "for i in range(0, len(nucleos),3):\n",
    "    codon = nucleos[i:i+3]\n",
    "    # print(codon)\n",
    "    if len(codon) ==3 :\n",
    "        if codon not in counter:\n",
    "            counter[codon] = 0\n",
    "        counter[codon] += 1\n",
    "    \n",
    "   \n",
    "print(counter)\n",
    "            "
   ]
  },
  {
   "cell_type": "code",
   "execution_count": null,
   "metadata": {},
   "outputs": [],
   "source": [
    "\n",
    "counter.clear()\n",
    "nucleos = \"ctacaatgtcagtatacccattgcattagccgg\"\n",
    "counter = {}\n",
    "\n",
    "for i in range(0, len(nucleos),3):\n",
    "    codon = nucleos[i:i+3]\n",
    "    if len(codon)==3:\n",
    "        if codon not in counter:\n",
    "            counter[codon] = 0\n",
    "        counter[codon] += 1\n",
    "        \n",
    "        \n",
    "print(counter)"
   ]
  },
  {
   "cell_type": "code",
   "execution_count": null,
   "metadata": {},
   "outputs": [],
   "source": [
    "# 리스트 평탄화\n",
    "a = [1,2,[3,4],5,[6,7],[8,9]]\n",
    "output = []\n",
    "\n",
    "for i in range(0, len(a)):\n",
    "    if type(a[i])is list:\n",
    "        for j in a[i]:\n",
    "            output.append(j)\n",
    "    else: output.append(a[i])\n",
    "    #print(a[i])\n",
    "print(output)"
   ]
  },
  {
   "cell_type": "code",
   "execution_count": null,
   "metadata": {},
   "outputs": [],
   "source": [
    "# 리스트 평탄화\n",
    "a = [1,2,[3,4],5,[6,7],[8,9]]\n",
    "output = []\n",
    "\n",
    "for i in a:\n",
    "    if type(i) is list:\n",
    "        for j in i :\n",
    "            output.append(j)\n",
    "    else : output.append(i)\n",
    "\n",
    "print(output)"
   ]
  },
  {
   "cell_type": "markdown",
   "metadata": {},
   "source": [
    "#5. 식탁에 앉을사람의 경우의 수(재귀함수)\n"
   ]
  },
  {
   "cell_type": "code",
   "execution_count": null,
   "metadata": {},
   "outputs": [],
   "source": [
    "sit_min = 2\n",
    "sit_max = 10\n",
    "total = 100\n",
    "memo ={}\n",
    "\n",
    "def solution(left, sitted) :\n",
    "    key = str([left, sitted])\n",
    "    if key in memo :\n",
    "        return memo[key]\n",
    "    if left <0 :\n",
    "        return 0\n",
    "    if left ==0 :\n",
    "        return 1\n",
    "    # 재귀처리\n",
    "    count = 0\n",
    "    for i in range(sitted, sit_max+1):\n",
    "        count += solution(left -i, i)\n",
    "    # 메모화 처리\n",
    "    memo[key] = count\n",
    "    # 종료\n",
    "    return count\n",
    "print(solution(total, sit_min))"
   ]
  },
  {
   "cell_type": "markdown",
   "metadata": {},
   "source": [
    "#6. 리스트 평탄화2 (재귀함수)"
   ]
  },
  {
   "cell_type": "markdown",
   "metadata": {},
   "source": [
    "원본 :  [[1, 2, 3], [4, [5, 6]], 7, [8, 9]]\n",
    "\n",
    "변환 :  [1, 2, 3, 4, 5, 6, 7, 8, 9]\n"
   ]
  },
  {
   "cell_type": "code",
   "execution_count": null,
   "metadata": {},
   "outputs": [],
   "source": [
    "example = [[1,2,3], [4,[5,6]],7,[8,9]]\n",
    "print(\"원본 : \", example)\n",
    "print(\"변환 : \", flatten(example))"
   ]
  },
  {
   "cell_type": "code",
   "execution_count": 402,
   "metadata": {},
   "outputs": [
    {
     "name": "stdout",
     "output_type": "stream",
     "text": [
      "원본 :  [[1, 2, 3], [4, [5, 6]], 7, [8, 9]]\n",
      "변환 :  [1, 2, 3, 4, 5, 6, 7, 8, 9]\n"
     ]
    }
   ],
   "source": [
    "def flaten(data):\n",
    "    output = []\n",
    "    for item in data:\n",
    "        if type(data) is list:\n",
    "            output += flatten()\n",
    "        else : output.append(item)\n",
    "    return output\n",
    "\n",
    "\n",
    "example = [[1,2,3], [4,[5,6]],7,[8,9]]\n",
    "print(\"원본 : \", example)\n",
    "print(\"변환 : \", flatten(example))"
   ]
  },
  {
   "cell_type": "code",
   "execution_count": 378,
   "metadata": {},
   "outputs": [
    {
     "name": "stdout",
     "output_type": "stream",
     "text": [
      "원본 :  [[1, 2, 3], [4, [5, 6]], 7, [8, 9]]\n",
      "변환 :  [1, 2, 3, 4, 5, 6, 7, 8, 9]\n"
     ]
    }
   ],
   "source": [
    "def flatten(data):\n",
    "    output =[]\n",
    "    for item in data :\n",
    "        if type(item) is list:\n",
    "            output += flatten(item)\n",
    "        else : output.append(item)\n",
    "    return output\n",
    "\n",
    "example = [[1,2,3], [4,[5,6]],7,[8,9]]\n",
    "print(\"원본 : \", example)\n",
    "print(\"변환 : \", flatten(example))"
   ]
  },
  {
   "cell_type": "code",
   "execution_count": 349,
   "metadata": {},
   "outputs": [
    {
     "name": "stdout",
     "output_type": "stream",
     "text": [
      "원본 :  [[1, 2, 3], [4, [5, 6]], 7, [8, 9]]\n",
      "변환 :  [1, 2, 3, 4, 5, 6, 7, 8, 9]\n"
     ]
    }
   ],
   "source": [
    "def flatten(data):\n",
    "    output = []\n",
    "    for item in data:\n",
    "        if type(item) is list:\n",
    "            output += flatten(item)\n",
    "        else: output.append(item)\n",
    "    return output\n",
    "\n",
    "example = [[1,2,3], [4,[5,6]],7,[8,9]]\n",
    "print(\"원본 : \", example)\n",
    "print(\"변환 : \", flatten(example))"
   ]
  },
  {
   "cell_type": "code",
   "execution_count": 347,
   "metadata": {},
   "outputs": [
    {
     "name": "stdout",
     "output_type": "stream",
     "text": [
      "원본 :  [[1, 2, 3], [4, [5, 6]], 7, [8, 9]]\n",
      "변환 :  [1, 2, 3, 4, 5, 6, 7, 8, 9]\n"
     ]
    }
   ],
   "source": [
    "def flatten(data):\n",
    "    output = []\n",
    "    for item in data:\n",
    "        if type(item) is list:\n",
    "            output += flatten(item)\n",
    "        else :\n",
    "            output.append(item)\n",
    "    return output\n",
    "example = [[1,2,3], [4,[5,6]],7,[8,9]]\n",
    "print(\"원본 : \", example)\n",
    "print(\"변환 : \", flatten(example))"
   ]
  },
  {
   "cell_type": "code",
   "execution_count": 245,
   "metadata": {},
   "outputs": [
    {
     "name": "stdout",
     "output_type": "stream",
     "text": [
      "원본 :  [[1, 2, 3], [4, [5, 6]], 7, [8, 9]]\n",
      "변환 :  [1, 2, 3, 4, 5, 6, 7, 8, 9]\n"
     ]
    }
   ],
   "source": [
    "def flatten(data):\n",
    "    output = []\n",
    "    for item in data:\n",
    "        if type(item) is list:\n",
    "            output += flatten(item)\n",
    "        else : output.append(item)\n",
    "    return output\n",
    "\n",
    "print(\"원본 : \", example)\n",
    "print(\"변환 : \", flatten(example))"
   ]
  },
  {
   "cell_type": "code",
   "execution_count": 195,
   "metadata": {},
   "outputs": [
    {
     "name": "stdout",
     "output_type": "stream",
     "text": [
      "원본 :  [[1, 2, 3], [4, [5, 6]], 7, [8, 9]]\n",
      "변환 :  [1, 2, 3, 4, 5, 6, 7, 8, 9]\n"
     ]
    }
   ],
   "source": [
    "def flatten(data):\n",
    "    output = []\n",
    "    \n",
    "    for item in data:\n",
    "        if type(item) is list:\n",
    "            output += flatten(item)\n",
    "        else :\n",
    "            output.append(item)\n",
    "    return output\n",
    "    \n",
    "example = [[1,2,3], [4,[5,6]],7,[8,9]]\n",
    "print(\"원본 : \", example)\n",
    "print(\"변환 : \", flatten(example))"
   ]
  },
  {
   "cell_type": "code",
   "execution_count": 151,
   "metadata": {},
   "outputs": [
    {
     "name": "stdout",
     "output_type": "stream",
     "text": [
      "원본 :  [[1, 2, 3], [4, [5, 6]], 7, [8, 9]]\n",
      "변환 :  [1, 2, 3, 4, 5, 6, 7, 8, 9]\n"
     ]
    }
   ],
   "source": [
    "def flatten(data):\n",
    "    output=[]\n",
    "    for item in data:\n",
    "        if type(item) is list:\n",
    "            output += flatten(item)\n",
    "        else : output.append(item)\n",
    "    return output\n",
    "\n",
    "example = [[1,2,3], [4,[5,6]],7,[8,9]]\n",
    "print(\"원본 : \", example)\n",
    "print(\"변환 : \", flatten(example))"
   ]
  },
  {
   "cell_type": "code",
   "execution_count": 67,
   "metadata": {},
   "outputs": [
    {
     "name": "stdout",
     "output_type": "stream",
     "text": [
      "원본 :  [[1, 2, 3], [4, [5, 6]], 7, [8, 9]]\n",
      "변환 :  [1, 2, 3, 4, 5, 6, 7, 8, 9]\n"
     ]
    }
   ],
   "source": [
    "def flatten(data):\n",
    "    output = []\n",
    "    for item in data:\n",
    "        if type(item) is list:\n",
    "            output += flatten(item)\n",
    "        else: output.append(item)\n",
    "    return output\n",
    "\n",
    "\n",
    "example = [[1,2,3], [4,[5,6]],7,[8,9]]\n",
    "print(\"원본 : \", example)\n",
    "print(\"변환 : \", flatten(example))"
   ]
  },
  {
   "cell_type": "code",
   "execution_count": 64,
   "metadata": {},
   "outputs": [
    {
     "name": "stdout",
     "output_type": "stream",
     "text": [
      "원본 :  [[1, 2, 3], [4, [5, 6]], 7, [8, 9]]\n",
      "변환 :  [1, 2, 3, 4, 5, 6, 7, 8, 9]\n"
     ]
    }
   ],
   "source": [
    "def flatten(data):\n",
    "    output = []\n",
    "    for key in data :\n",
    "        if type(key) is list :\n",
    "            output += flatten(key)\n",
    "        else :\n",
    "            output.append(key)\n",
    "    return output\n",
    "    \n",
    "    \n",
    "    \n",
    "    \n",
    "example = [[1,2,3], [4,[5,6]],7,[8,9]]\n",
    "print(\"원본 : \", example)\n",
    "print(\"변환 : \", flatten(example))"
   ]
  },
  {
   "cell_type": "code",
   "execution_count": 63,
   "metadata": {},
   "outputs": [
    {
     "name": "stdout",
     "output_type": "stream",
     "text": [
      "원본 :  [[1, 2, 3], [4, [5, 6]], 7, [8, 9]]\n",
      "변환 :  [1, 2, 3, 4, 5, 6, 7, 8, 9]\n"
     ]
    }
   ],
   "source": [
    "def flatten(data):\n",
    "    output = []\n",
    "    for item in data:\n",
    "        if type(item) == list:\n",
    "            output += flatten(item)\n",
    "        else:\n",
    "            output.append(item)\n",
    "    return output\n",
    "\n",
    "example = [[1,2,3], [4,[5,6]],7,[8,9]]\n",
    "print(\"원본 : \", example)\n",
    "print(\"변환 : \", flatten(example))"
   ]
  },
  {
   "cell_type": "code",
   "execution_count": null,
   "metadata": {},
   "outputs": [],
   "source": [
    "def flatten(data):\n",
    "    output = []\n",
    "    for item in data:\n",
    "        if type(item) == list :\n",
    "            output += flatten(item)\n",
    "        else : output.append(item)\n",
    "    return output\n",
    "        \n",
    "example = [[1,2,3], [4,[5,6,[1,1]]],7,[8,9]]\n",
    "\n",
    "print(flatten(example))\n"
   ]
  },
  {
   "cell_type": "code",
   "execution_count": null,
   "metadata": {},
   "outputs": [],
   "source": [
    "def flatten(data):\n",
    "    output = []\n",
    "    for item in data:\n",
    "        if type(item) == list :\n",
    "            output+=flatten(item)\n",
    "        else :\n",
    "            output.append(item)\n",
    "    return output\n",
    "\n",
    "example = [[1,2,3], [4,[5,6,[1,1]]],7,[8,9]]\n",
    "\n",
    "print(\"원본: \", example)\n",
    "print(\"평탄화: \", flatten(example))"
   ]
  },
  {
   "cell_type": "markdown",
   "metadata": {},
   "source": [
    "#7. 파일 내용 랜덤함수로 채우기\n"
   ]
  },
  {
   "cell_type": "code",
   "execution_count": null,
   "metadata": {},
   "outputs": [],
   "source": [
    "import random\n",
    "hangeuls = \"기니디리미비시이지치키티히\""
   ]
  },
  {
   "cell_type": "code",
   "execution_count": 343,
   "metadata": {},
   "outputs": [],
   "source": [
    "import random\n",
    "hangeuls = \"기니디리미비시이지치키티히\"\n",
    "\n",
    "with open(\"random.txt\", 'w') as file:\n",
    "    for i in range(10):\n",
    "        name = random.choice(hangeuls)+random.choice(hangeuls)\n",
    "        height = random.randrange(150,200)\n",
    "        weight = random.randrange(100,200)\n",
    "        file.write('{},{},{}\\n'.format(name,height,weight))"
   ]
  },
  {
   "cell_type": "code",
   "execution_count": 279,
   "metadata": {},
   "outputs": [],
   "source": [
    "import random\n",
    "hangeuls = \"기니디리미비시이지치키티히\"\n",
    "\n",
    "with open('namae03.txt', 'w') as file:\n",
    "    name = random.choice(hangeuls) + random.choice(hangeuls)\n",
    "    weight = random.randrange(80,140)\n",
    "    height = random.randrange(155, 180)\n",
    "    file.write(\"{}{}{}\\n\".format(name,weight,height))    "
   ]
  },
  {
   "cell_type": "code",
   "execution_count": 247,
   "metadata": {},
   "outputs": [],
   "source": [
    "import random\n",
    "hangeul = \"가나다라마바사\"\n",
    "\n",
    "with open('namae02.txt','w') as file:\n",
    "    for i in range(10):\n",
    "        name = random.choice(hangeul) + random.choice(hangeul)\n",
    "        weight = random.randrange(50,100)\n",
    "        height = random.randrange(150,200)\n",
    "        file.write(\"{},{},{}\\n\".format(name,weight,height))"
   ]
  },
  {
   "cell_type": "code",
   "execution_count": 205,
   "metadata": {},
   "outputs": [],
   "source": [
    "import random\n",
    "hangeul = list(\"가나다라마바사아자타파타카하에헤\")\n",
    "with open(\"namae.txt\",'w') as file:\n",
    "    for i in range(22):\n",
    "        name = random.choice(hangeul) + random.choice(hangeul) \n",
    "        # hangeul 은 위에 한글에 있는 리스트 목록 에서 고르는거, 'hangeul'은 h,a,n...이것 중 고르는 것!\n",
    "        height = random.randrange(150,200)\n",
    "        weight = random.randrange(50,100)\n",
    "        file.write(\"{},{},{}\\n\".format(name, height, weight))\n",
    "        "
   ]
  },
  {
   "cell_type": "code",
   "execution_count": 152,
   "metadata": {},
   "outputs": [],
   "source": [
    "import random\n",
    "hangeuls = list(\"가나다라마바사아자차카타파하기교니누네노디두데도리루레로미무메모비부베보\")\n",
    "with open(\"name.txt\",'w') as file:\n",
    "    for i in range(10):\n",
    "        name = random.choice('hangeuls') + random.choice('hangeuls')\n",
    "        weight = random.randrange(40,100)\n",
    "        height = random.randrange(150,200)\n",
    "        file.write(\"{},{},{}\\n\".format(name,weight,height))"
   ]
  },
  {
   "cell_type": "code",
   "execution_count": 86,
   "metadata": {},
   "outputs": [],
   "source": [
    "import random\n",
    "hangeuls = list(\"가나다라마바사아자차카타파하기교니누네노디두데도리루레로미무메모비부베보\")\n",
    "#파일을 열고, w옵션을 준다\n",
    "with open(\"name.txt\", \"w\") as file:\n",
    "    for i in range(10):\n",
    "        name = random.choice(hangeuls)+random.choice(hangeuls)\n",
    "        weight = random.randrange(50,100)\n",
    "        height = random.randrange(150,200)\n",
    "        file.write(\"{},{},{}\\n\".format(name,weight,height))"
   ]
  },
  {
   "cell_type": "code",
   "execution_count": 69,
   "metadata": {},
   "outputs": [],
   "source": [
    "import random\n",
    "hangeuls = list(\"가나다라마바사아자타카타파하\")\n",
    "with open(\"info03.txt\",\"w\") as file:\n",
    "    for i in range(10):\n",
    "        name = random.choice(hangeuls) + random.choice(hangeuls)\n",
    "        height = random.randrange(140, 200)\n",
    "        weight = random.randrange(40,150)\n",
    "        file.write(\"{},{},{}\\n\".format(name,height,weight))"
   ]
  },
  {
   "cell_type": "code",
   "execution_count": 202,
   "metadata": {},
   "outputs": [
    {
     "name": "stdout",
     "output_type": "stream",
     "text": [
      "<_io.TextIOWrapper name='info.txt' mode='w' encoding='UTF-8'>\n"
     ]
    }
   ],
   "source": [
    "import random\n",
    "hangeuls = list(\"가나다라마바사아자타카타파하\")\n",
    "with open(\"info.txt\",\"w\") as file:\n",
    "    for i in range(10):\n",
    "        name = random.choice(hangeuls) + random.choice(hangeuls)\n",
    "        weight = random.randrange(40,100)\n",
    "        height = random.randrange(150,190)\n",
    "        file.write(\"{},{},{}\\n\".format(name, weight, height))\n",
    "             \n",
    "print(file)"
   ]
  },
  {
   "cell_type": "code",
   "execution_count": 203,
   "metadata": {},
   "outputs": [
    {
     "name": "stdout",
     "output_type": "stream",
     "text": [
      "<_io.TextIOWrapper name='info11.txt' mode='w' encoding='UTF-8'>\n"
     ]
    }
   ],
   "source": [
    "import random\n",
    "hangeuls = list(\"가나다라마바사아자타카타파하\")\n",
    "with open(\"info11.txt\",\"w\") as file:\n",
    "    for i in range(100):\n",
    "        name = random.choice(hangeuls)+ random.choice(hangeuls)\n",
    "        weight = random.randrange(40, 100)\n",
    "        height = random.randrange(140,200) \n",
    "        file.write(\"{},{},{}\\n\".format(name,weight,height))   \n",
    "    \n",
    "    \n",
    "print(file)"
   ]
  },
  {
   "cell_type": "markdown",
   "metadata": {},
   "source": [
    "#8. BMI 판정(파일 읽어오기 등)\n",
    "\n",
    "<결과>\n",
    "이름: 하아\n",
    "몸무게: 58\n",
    "키: 167\n",
    "BMI: 0.012920472265537981\n",
    "결과: 저체중"
   ]
  },
  {
   "cell_type": "code",
   "execution_count": 341,
   "metadata": {},
   "outputs": [
    {
     "name": "stdout",
     "output_type": "stream",
     "text": [
      "as : 71, 189, 결과 : 저체중\n",
      "hg : 70, 157, 결과 : 저체중\n",
      "ll : 49, 195, 결과 : 저체중\n",
      "aa : 94, 167, 결과 : 저체중\n",
      "an : 70, 161, 결과 : 저체중\n",
      "gl : 78, 172, 결과 : 저체중\n",
      "se : 92, 152, 결과 : 저체중\n",
      "hh : 89, 186, 결과 : 저체중\n",
      "aa : 73, 161, 결과 : 저체중\n",
      "sl : 87, 184, 결과 : 저체중\n"
     ]
    }
   ],
   "source": [
    "with open(\"name.txt\", 'r') as file:\n",
    "    for line in file:\n",
    "        (name, height, weight) = line.strip().split(\",\")\n",
    "        if not name or not height or not weight:\n",
    "            continue\n",
    "        else:\n",
    "              # BMI 공식\n",
    "            bmi = int(weight)/((int(height)-100) **2)\n",
    "            result =\"\"\n",
    "        \n",
    "            if 25 <=bmi :\n",
    "                result = \"과체중\"\n",
    "            elif 18.5<bmi :\n",
    "                result = \"정상체중\"\n",
    "            else: \n",
    "                result = \"저체중\"\n",
    "        print(f\"{name} : {height}, {weight}, 결과 : {result}\")"
   ]
  },
  {
   "cell_type": "code",
   "execution_count": 277,
   "metadata": {},
   "outputs": [
    {
     "name": "stdout",
     "output_type": "stream",
     "text": [
      "마바 : 169, 91, 결과 : 저체중\n",
      "가마 : 152, 50, 결과 : 저체중\n",
      "바타 : 179, 57, 결과 : 저체중\n",
      "자나 : 160, 62, 결과 : 저체중\n",
      "라헤 : 175, 95, 결과 : 저체중\n",
      "하에 : 154, 80, 결과 : 저체중\n",
      "가다 : 160, 74, 결과 : 저체중\n",
      "타라 : 178, 73, 결과 : 저체중\n",
      "아파 : 182, 51, 결과 : 저체중\n",
      "카다 : 159, 90, 결과 : 저체중\n",
      "가나 : 174, 90, 결과 : 저체중\n",
      "마헤 : 184, 73, 결과 : 저체중\n",
      "가자 : 193, 91, 결과 : 저체중\n",
      "사자 : 175, 92, 결과 : 저체중\n",
      "자바 : 174, 68, 결과 : 저체중\n",
      "가나 : 191, 63, 결과 : 저체중\n",
      "헤타 : 171, 86, 결과 : 저체중\n",
      "타하 : 167, 52, 결과 : 저체중\n",
      "하가 : 167, 60, 결과 : 저체중\n",
      "사자 : 152, 78, 결과 : 저체중\n",
      "파타 : 178, 62, 결과 : 저체중\n",
      "카타 : 179, 87, 결과 : 저체중\n"
     ]
    }
   ],
   "source": [
    "with open('namae.txt', 'r') as file:\n",
    "    for line in file:\n",
    "        (name, height, weight) = line.strip().split(\",\")\n",
    "        \n",
    "        if not name or not height or not weight:\n",
    "            continue\n",
    "        else:\n",
    "              # BMI 공식\n",
    "            bmi = int(weight)/((int(height)-100) **2)\n",
    "            result =\"\"\n",
    "        \n",
    "            if 25 <=bmi :\n",
    "                result = \"과체중\"\n",
    "            elif 18.5<bmi :\n",
    "                result = \"정상체중\"\n",
    "            else: \n",
    "                result = \"저체중\"\n",
    "                \n",
    "        print(f\"{name} : {height}, {weight}, 결과 : {result}\")"
   ]
  },
  {
   "cell_type": "code",
   "execution_count": 248,
   "metadata": {},
   "outputs": [
    {
     "name": "stdout",
     "output_type": "stream",
     "text": [
      "마바 : 169, 결과 : 저체중\n",
      "가마 : 152, 결과 : 저체중\n",
      "바타 : 179, 결과 : 저체중\n",
      "자나 : 160, 결과 : 저체중\n",
      "라헤 : 175, 결과 : 저체중\n",
      "하에 : 154, 결과 : 저체중\n",
      "가다 : 160, 결과 : 저체중\n",
      "타라 : 178, 결과 : 저체중\n",
      "아파 : 182, 결과 : 저체중\n",
      "카다 : 159, 결과 : 저체중\n",
      "가나 : 174, 결과 : 저체중\n",
      "마헤 : 184, 결과 : 저체중\n",
      "가자 : 193, 결과 : 저체중\n",
      "사자 : 175, 결과 : 저체중\n",
      "자바 : 174, 결과 : 저체중\n",
      "가나 : 191, 결과 : 저체중\n",
      "헤타 : 171, 결과 : 저체중\n",
      "타하 : 167, 결과 : 저체중\n",
      "하가 : 167, 결과 : 저체중\n",
      "사자 : 152, 결과 : 저체중\n",
      "파타 : 178, 결과 : 저체중\n",
      "카타 : 179, 결과 : 저체중\n"
     ]
    }
   ],
   "source": [
    "with open('namae.txt') as file:\n",
    "    for line in file:\n",
    "        (name, weight, height) = line.strip().split(\",\")\n",
    "        if not name or not weight or not height:\n",
    "            continue\n",
    "        else : \n",
    "            # BMI 공식\n",
    "            bmi = int(weight)/((int(height)-100) **2)\n",
    "            result =\"\"\n",
    "        \n",
    "            if 25 <=bmi :\n",
    "                result = \"과체중\"\n",
    "            elif 18.5<bmi :\n",
    "                result = \"정상체중\"\n",
    "            else: \n",
    "                result = \"저체중\"\n",
    "            \n",
    "            print(f\"{name} : {weight}, 결과 : {result}\")"
   ]
  },
  {
   "cell_type": "code",
   "execution_count": 208,
   "metadata": {},
   "outputs": [
    {
     "name": "stdout",
     "output_type": "stream",
     "text": [
      "마바 : 91, 결과 : 저체중\n",
      "가마 : 50, 결과 : 저체중\n",
      "바타 : 57, 결과 : 저체중\n",
      "자나 : 62, 결과 : 저체중\n",
      "라헤 : 95, 결과 : 저체중\n",
      "하에 : 80, 결과 : 저체중\n",
      "가다 : 74, 결과 : 저체중\n",
      "타라 : 73, 결과 : 저체중\n",
      "아파 : 51, 결과 : 저체중\n",
      "카다 : 90, 결과 : 저체중\n",
      "가나 : 90, 결과 : 저체중\n",
      "마헤 : 73, 결과 : 저체중\n",
      "가자 : 91, 결과 : 저체중\n",
      "사자 : 92, 결과 : 저체중\n",
      "자바 : 68, 결과 : 저체중\n",
      "가나 : 63, 결과 : 저체중\n",
      "헤타 : 86, 결과 : 저체중\n",
      "타하 : 52, 결과 : 저체중\n",
      "하가 : 60, 결과 : 저체중\n",
      "사자 : 78, 결과 : 저체중\n",
      "파타 : 62, 결과 : 저체중\n",
      "카타 : 87, 결과 : 저체중\n"
     ]
    }
   ],
   "source": [
    "with open('namae.txt') as file:\n",
    "    for line in file:\n",
    "        (name, height, weight) = line.strip().split(\",\")\n",
    "        if not name or not weight or not height:\n",
    "            continue\n",
    "        else : \n",
    "            # BMI 공식\n",
    "            bmi = int(weight)/((int(height)-100) **2)\n",
    "            result =\"\"\n",
    "        \n",
    "            if 25 <=bmi :\n",
    "                result = \"과체중\"\n",
    "            elif 18.5<bmi :\n",
    "                result = \"정상체중\"\n",
    "            else: \n",
    "                result = \"저체중\"\n",
    "            \n",
    "            print(f\"{name} : {weight}, 결과 : {result}\")"
   ]
  },
  {
   "cell_type": "code",
   "execution_count": 157,
   "metadata": {},
   "outputs": [
    {
     "name": "stdout",
     "output_type": "stream",
     "text": [
      "as : 71, 결과 : 저체중\n",
      "hg : 70, 결과 : 저체중\n",
      "ll : 49, 결과 : 저체중\n",
      "aa : 94, 결과 : 저체중\n",
      "an : 70, 결과 : 저체중\n",
      "gl : 78, 결과 : 저체중\n",
      "se : 92, 결과 : 저체중\n",
      "hh : 89, 결과 : 저체중\n",
      "aa : 73, 결과 : 저체중\n",
      "sl : 87, 결과 : 저체중\n"
     ]
    }
   ],
   "source": [
    "with open(\"name.txt\",'r') as file:\n",
    "    for line in file:\n",
    "        (name, weight, height) = line.strip().split(\",\")\n",
    "        if not (name) or not weight or not height:\n",
    "            continue\n",
    "        # BMI 공식\n",
    "        bmi = int(weight)/((int(height)-100) **2)\n",
    "        result =\"\"\n",
    "        \n",
    "        if 25 <=bmi :\n",
    "            result = \"과체중\"\n",
    "        elif 18.5<bmi :\n",
    "            result = \"정상체중\"\n",
    "        else: \n",
    "            result = \"저체중\"\n",
    "            \n",
    "        # 내용물 한줄씩 띄워서 쓰기\n",
    "        print(f\"{name} : {weight}, 결과 : {result}\")"
   ]
  },
  {
   "cell_type": "code",
   "execution_count": 155,
   "metadata": {},
   "outputs": [
    {
     "name": "stdout",
     "output_type": "stream",
     "text": [
      "as : 71, 결과 : 저체중 \n",
      "\n",
      "hg : 70, 결과 : 저체중 \n",
      "\n",
      "ll : 49, 결과 : 저체중 \n",
      "\n",
      "aa : 94, 결과 : 저체중 \n",
      "\n",
      "an : 70, 결과 : 저체중 \n",
      "\n",
      "gl : 78, 결과 : 저체중 \n",
      "\n",
      "se : 92, 결과 : 저체중 \n",
      "\n",
      "hh : 89, 결과 : 저체중 \n",
      "\n",
      "aa : 73, 결과 : 저체중 \n",
      "\n",
      "sl : 87, 결과 : 저체중 \n",
      "\n"
     ]
    }
   ],
   "source": [
    "\n",
    "#파일 읽어오기 (r) \n",
    "with open(\"name.txt\",'r') as file:\n",
    "    for line in file:\n",
    "        # (이름, 무게, 키)로 데이터 스플릿\n",
    "        (name, weight, height) = line.strip().split(\",\")\n",
    "        # 아룸, 무게, 키 중에 한개라도 없으면... 건너뛰어\n",
    "        if not name or not weight or not height: \n",
    "            continue\n",
    "        # BMI 공식\n",
    "        bmi = int(weight)/((int(height)-100) **2)\n",
    "        result =\"\"\n",
    "        \n",
    "        if 25 <=bmi :\n",
    "            result = \"과체중\"\n",
    "        elif 18.5<bmi :\n",
    "            result = \"정상체중\"\n",
    "        else: \n",
    "            result = \"저체중\"\n",
    "            \n",
    "        # 내용물 한줄씩 띄워서 쓰기\n",
    "        print(f\"{name} : {weight}, 결과 : {result} \")     \n",
    "        print()\n",
    "     \n",
    "        "
   ]
  },
  {
   "cell_type": "code",
   "execution_count": 76,
   "metadata": {},
   "outputs": [
    {
     "name": "stdout",
     "output_type": "stream",
     "text": [
      "바가 : 0.008851895891134892, 187 \n",
      "\n",
      "타자 : 0.0252, 150 \n",
      "\n",
      "하바 : 0.01662049861495845, 157 \n",
      "\n",
      "바타 : 0.008, 175 \n",
      "\n",
      "파나 : 0.0212, 150 \n",
      "\n",
      "하가 : 0.024992818155702385, 159 \n",
      "\n",
      "마나 : 0.02343159486016629, 163 \n",
      "\n",
      "다자 : 0.019440587185082323, 171 \n",
      "\n",
      "나타 : 0.009168388429752067, 188 \n",
      "\n",
      "자라 : 0.011029411764705883, 168 \n",
      "\n"
     ]
    }
   ],
   "source": [
    "with open(\"info.txt\",\"r\") as file:\n",
    "    for line in file:\n",
    "        # (이름, 무게, 키)로 데이터 스플릿\n",
    "        (name, weight, height) = line.strip().split(\",\")\n",
    "        # 아룸, 무게, 키 중에 한개라도 없으면... 건너뛰어\n",
    "        if not name or not weight or not height: \n",
    "            continue \n",
    "        # BMI 공식\n",
    "        bmi = int(weight)/((int(height)-100) **2)\n",
    "        result =\"\"\n",
    "        \n",
    "        if 25 <=bmi :\n",
    "            result = \"과체중\"\n",
    "        elif 18.5<bmi :\n",
    "            result = \"정상체중\"\n",
    "        else: \n",
    "            result = \"저체중\"\n",
    "            \n",
    "        # 내용물 한줄씩 띄워서 쓰기\n",
    "        print(f\"{name} : {bmi}, {height} \")     \n",
    "        print()\n",
    "     \n",
    "        "
   ]
  },
  {
   "cell_type": "code",
   "execution_count": null,
   "metadata": {},
   "outputs": [],
   "source": [
    "with open(\"info.txt\",\"r\") as file:\n",
    "    for line in file:\n",
    "        # (이름, 무게, 키)로 데이터 스플릿\n",
    "        \n",
    "        # 아룸, 무게, 키 중에 한개라도 없으면... 건너뛰어\n",
    "\n",
    "        # BMI 공식\n",
    "        bmi = int(weight)/((int(height)-100) **2)\n",
    "        result =\"\"\n",
    "        \n",
    "        if 25 <=bmi :\n",
    "            result = \"과체중\"\n",
    "        elif 18.5<bmi :\n",
    "            result = \"정상체중\"\n",
    "        else: \n",
    "            result = \"저체중\"\n",
    "            \n",
    "        # 내용물 한줄씩 띄워서 쓰기\n",
    "     \n",
    "        print()\n",
    "     \n",
    "        "
   ]
  },
  {
   "cell_type": "code",
   "execution_count": 278,
   "metadata": {},
   "outputs": [
    {
     "name": "stdout",
     "output_type": "stream",
     "text": [
      "이름 : 파다\n",
      "무게 : 58\n",
      "키 : 167\n",
      "BMI : 0.012920472265537981\n",
      "결과 : 저체중\n",
      "\n",
      "이름 : 가카\n",
      "무게 : 96\n",
      "키 : 187\n",
      "BMI : 0.012683313515655966\n",
      "결과 : 저체중\n",
      "\n",
      "이름 : 라파\n",
      "무게 : 68\n",
      "키 : 165\n",
      "BMI : 0.016094674556213016\n",
      "결과 : 저체중\n",
      "\n",
      "이름 : 타타\n",
      "무게 : 53\n",
      "키 : 169\n",
      "BMI : 0.011132115101869355\n",
      "결과 : 저체중\n",
      "\n",
      "이름 : 파나\n",
      "무게 : 55\n",
      "키 : 178\n",
      "BMI : 0.009040105193951348\n",
      "결과 : 저체중\n",
      "\n",
      "이름 : 다다\n",
      "무게 : 73\n",
      "키 : 161\n",
      "BMI : 0.01961838215533459\n",
      "결과 : 저체중\n",
      "\n",
      "이름 : 타타\n",
      "무게 : 94\n",
      "키 : 154\n",
      "BMI : 0.03223593964334705\n",
      "결과 : 저체중\n",
      "\n",
      "이름 : 자타\n",
      "무게 : 54\n",
      "키 : 152\n",
      "BMI : 0.019970414201183433\n",
      "결과 : 저체중\n",
      "\n",
      "이름 : 라타\n",
      "무게 : 53\n",
      "키 : 182\n",
      "BMI : 0.007882212968471148\n",
      "결과 : 저체중\n",
      "\n",
      "이름 : 타아\n",
      "무게 : 68\n",
      "키 : 176\n",
      "BMI : 0.011772853185595568\n",
      "결과 : 저체중\n",
      "\n"
     ]
    }
   ],
   "source": [
    "with open(\"info.txt\",\"r\") as file:\n",
    "    for line in file:\n",
    "        # (이름, 무게, 키)로 데이터 스플릿\n",
    "        (name, weight, height) = line.strip().split(\",\")\n",
    "        # print(name, weight, height)\n",
    "        # 이름, 무게, 키 중에 한개라도 없으면... 건너뛰어\n",
    "        if ((not name) or (not weight) or (not height)):\n",
    "            continue\n",
    "        # BMI 공식\n",
    "        bmi = int(weight)/((int(height)-100) **2)\n",
    "        result = \"\"\n",
    "        \n",
    "        if 25 <=bmi :\n",
    "            result = \"과체중\"\n",
    "        elif 18.5<bmi :\n",
    "            result = \"정상체중\"\n",
    "        else: \n",
    "            result = \"저체중\"\n",
    "            \n",
    "        # 내용물 한줄씩 띄워서 쓰기\n",
    "        print('\\n'.join([\n",
    "            \"이름 : {}\",\n",
    "            \"무게 : {}\",\n",
    "            \"키 : {}\",\n",
    "            \"BMI : {}\",\n",
    "            \"결과 : {}\"\n",
    "        ]).format(name, weight, height, bmi, result))\n",
    "        print()\n",
    "     \n",
    "        "
   ]
  },
  {
   "cell_type": "markdown",
   "metadata": {},
   "source": [
    "#9. join \n",
    "\n",
    "1::2::3::4::5::6\n"
   ]
  },
  {
   "cell_type": "code",
   "execution_count": null,
   "metadata": {},
   "outputs": [],
   "source": [
    "numbers = [1,2,3,4,5,6]\n"
   ]
  },
  {
   "cell_type": "code",
   "execution_count": 401,
   "metadata": {},
   "outputs": [
    {
     "name": "stdout",
     "output_type": "stream",
     "text": [
      "1::2::3::4::5::6\n"
     ]
    }
   ],
   "source": [
    "numbers = [1,2,3,4,5,6]\n",
    "print(\"::\".join(map(str, numbers)))\n"
   ]
  },
  {
   "cell_type": "code",
   "execution_count": 379,
   "metadata": {},
   "outputs": [
    {
     "name": "stdout",
     "output_type": "stream",
     "text": [
      "1::2::3::4::5::6\n"
     ]
    }
   ],
   "source": [
    "numbers = [1,2,3,4,5,6]\n",
    "print(\"::\".join(map(str, numbers)))"
   ]
  },
  {
   "cell_type": "code",
   "execution_count": 333,
   "metadata": {},
   "outputs": [
    {
     "name": "stdout",
     "output_type": "stream",
     "text": [
      "1::2::3::4::5::6\n"
     ]
    }
   ],
   "source": [
    "numbers = [1,2,3,4,5,6]\n",
    "print('::'.join(map(str, numbers)))"
   ]
  },
  {
   "cell_type": "code",
   "execution_count": 334,
   "metadata": {},
   "outputs": [
    {
     "name": "stdout",
     "output_type": "stream",
     "text": [
      "봄..이..와..도.. ..설..레..지.. ..않..을.. ..것..이..고..,.. ..여..름..이.. ..와..도\n"
     ]
    }
   ],
   "source": [
    "hangeul = \"봄이와도 설레지 않을 것이고, 여름이 와도\"\n",
    "print(\"..\".join(hangeul))\n"
   ]
  },
  {
   "cell_type": "code",
   "execution_count": 273,
   "metadata": {},
   "outputs": [
    {
     "name": "stdout",
     "output_type": "stream",
     "text": [
      "1::2::3::4::5::6\n"
     ]
    }
   ],
   "source": [
    "numbers = [1,2,3,4,5,6]\n",
    "print(\"::\".join(map(str,numbers)))"
   ]
  },
  {
   "cell_type": "code",
   "execution_count": 249,
   "metadata": {},
   "outputs": [
    {
     "name": "stdout",
     "output_type": "stream",
     "text": [
      "1::2::3::4::5::6\n"
     ]
    }
   ],
   "source": [
    "numbers = [1,2,3,4,5,6]\n",
    "print(\"::\".join(map(str,numbers)))"
   ]
  },
  {
   "cell_type": "code",
   "execution_count": 216,
   "metadata": {},
   "outputs": [
    {
     "name": "stdout",
     "output_type": "stream",
     "text": [
      "I: :L:O:V:E: :Y:O:U\n"
     ]
    }
   ],
   "source": [
    "#num = {\"a\",\"b\",\"c\"}\n",
    "num = \"I LOVE YOU\"\n",
    "print(\":\".join(num))"
   ]
  },
  {
   "cell_type": "code",
   "execution_count": 219,
   "metadata": {},
   "outputs": [
    {
     "name": "stdout",
     "output_type": "stream",
     "text": [
      "1::K::3::4::5\n"
     ]
    }
   ],
   "source": [
    "numbers = [\"1\",\"K\",3,4,5]\n",
    "print(\"::\".join(map(str, numbers)))"
   ]
  },
  {
   "cell_type": "code",
   "execution_count": 214,
   "metadata": {},
   "outputs": [
    {
     "name": "stdout",
     "output_type": "stream",
     "text": [
      "1::2::3::4::5::6\n"
     ]
    }
   ],
   "source": [
    "numbers = [1,2,3,4,5,6]\n",
    "print(\"::\".join(map(str,numbers)))"
   ]
  },
  {
   "cell_type": "code",
   "execution_count": 213,
   "metadata": {},
   "outputs": [
    {
     "name": "stdout",
     "output_type": "stream",
     "text": [
      "1::2::3::4::5::6\n"
     ]
    }
   ],
   "source": [
    "numbers = [1,2,3,4,5,6]\n",
    "print(\"::\".join(map(str,numbers)))"
   ]
  },
  {
   "cell_type": "code",
   "execution_count": 211,
   "metadata": {},
   "outputs": [
    {
     "name": "stdout",
     "output_type": "stream",
     "text": [
      "1::2::3::4::5::6\n"
     ]
    }
   ],
   "source": [
    "numbers = [1,2,3,4,5,6]\n",
    "print(\"::\".join(map(str,numbers)))"
   ]
  },
  {
   "cell_type": "code",
   "execution_count": 88,
   "metadata": {},
   "outputs": [
    {
     "name": "stdout",
     "output_type": "stream",
     "text": [
      "1::2::3::4::5::6\n"
     ]
    }
   ],
   "source": [
    "numbers = [1,2,3,4,5,6]\n",
    "print(\"::\".join(map(str,numbers)))"
   ]
  },
  {
   "cell_type": "code",
   "execution_count": 92,
   "metadata": {},
   "outputs": [
    {
     "name": "stdout",
     "output_type": "stream",
     "text": [
      "야:: ::이::기::지::배::야\n"
     ]
    }
   ],
   "source": [
    "numbers = \"야 이기지배야\"\n",
    "print(\"::\".join(numbers))"
   ]
  },
  {
   "cell_type": "code",
   "execution_count": null,
   "metadata": {},
   "outputs": [],
   "source": [
    "numbers = [1,2,3,4,5,6]\n",
    "print('::'.join(map(str, numbers)))"
   ]
  },
  {
   "cell_type": "code",
   "execution_count": null,
   "metadata": {},
   "outputs": [],
   "source": [
    "numbers = [1,2,3,4,5,6]\n",
    "print(\"::\".join(map(str, numbers)))"
   ]
  },
  {
   "cell_type": "markdown",
   "metadata": {},
   "source": [
    "#10. 람다 "
   ]
  },
  {
   "cell_type": "code",
   "execution_count": null,
   "metadata": {},
   "outputs": [],
   "source": [
    "numbers = list(range(1,10+1))\n",
    "\n",
    "print(\"홀수만 추출하기\")\n",
    "print()\n",
    "\n",
    "print(\"3이상, 7미만 추출하기\")\n",
    "print()\n",
    "\n",
    "print(\"# 제곱해서 50 미만 추출하기\")\n",
    "print()"
   ]
  },
  {
   "cell_type": "code",
   "execution_count": 400,
   "metadata": {},
   "outputs": [
    {
     "name": "stdout",
     "output_type": "stream",
     "text": [
      "홀수만 추출하기\n",
      "[1, 3, 5, 7, 9]\n",
      "\n",
      "3이상, 7미만 추출하기\n",
      "[3, 4, 5, 6]\n",
      "\n",
      "# 제곱해서 50 미만 추출하기\n",
      "[1, 2, 3, 4, 5, 6, 7]\n",
      "\n"
     ]
    }
   ],
   "source": [
    "numbers = list(range(1,10+1))\n",
    "\n",
    "print(\"홀수만 추출하기\")\n",
    "print(list(filter(lambda x:x%2==1, numbers)))\n",
    "print()\n",
    "\n",
    "print(\"3이상, 7미만 추출하기\")\n",
    "print(list(filter(lambda x: 3<=x <7, numbers)))\n",
    "print()\n",
    "\n",
    "print(\"# 제곱해서 50 미만 추출하기\")\n",
    "print(list(filter(lambda x:x**2 < 50, numbers)))\n",
    "print()"
   ]
  },
  {
   "cell_type": "code",
   "execution_count": 385,
   "metadata": {},
   "outputs": [
    {
     "name": "stdout",
     "output_type": "stream",
     "text": [
      "홀수만 추출하기\n",
      "[1, 3, 5, 7, 9]\n",
      "\n",
      "3이상, 7미만 추출하기\n",
      "[3, 4, 5, 6]\n",
      "\n",
      "# 제곱해서 50 미만 추출하기\n",
      "[1, 2, 3, 4, 5, 6, 7]\n",
      "\n"
     ]
    }
   ],
   "source": [
    "numbers = list(range(1,10+1))\n",
    "\n",
    "print(\"홀수만 추출하기\")\n",
    "print(list(filter(lambda x: x%2==1, numbers)))\n",
    "print()\n",
    "\n",
    "print(\"3이상, 7미만 추출하기\")\n",
    "print(list(filter(lambda x: 3<= x < 7, numbers)))\n",
    "print()\n",
    "\n",
    "print(\"# 제곱해서 50 미만 추출하기\")\n",
    "print(list(filter(lambda x: x**2<50 , numbers)))\n",
    "print()"
   ]
  },
  {
   "cell_type": "code",
   "execution_count": 332,
   "metadata": {},
   "outputs": [
    {
     "name": "stdout",
     "output_type": "stream",
     "text": [
      "홀수만 추출하기\n",
      "[1, 3, 5, 7, 9]\n",
      "3이상, 7미만 추출하기\n",
      "[3, 4, 5, 6]\n",
      "# 제곱해서 50 미만 추출하기\n",
      "[1, 2, 3, 4, 5, 6, 7, 8, 9, 10]\n"
     ]
    }
   ],
   "source": [
    "numbers = list(range(1,10+1))\n",
    "\n",
    "print(\"홀수만 추출하기\")\n",
    "print(list(filter(lambda i: i%2==1, numbers)))\n",
    "\n",
    "print(\"3이상, 7미만 추출하기\")\n",
    "print(list(filter(lambda x:3<=x<7, numbers)))\n",
    "\n",
    "print(\"# 제곱해서 50 미만 추출하기\")\n",
    "print(list(filter(lambda x:x**2, numbers)))"
   ]
  },
  {
   "cell_type": "code",
   "execution_count": 272,
   "metadata": {},
   "outputs": [
    {
     "name": "stdout",
     "output_type": "stream",
     "text": [
      "홀수만 추출하기\n",
      "[1, 3, 5, 7, 9]\n",
      "\n",
      "3이상, 7미만 추출하기\n",
      "[3, 4, 5, 6]\n",
      "\n",
      "# 제곱해서 50 미만 추출하기\n",
      "[1, 2, 3, 4, 5, 6, 7]\n",
      "\n"
     ]
    }
   ],
   "source": [
    "numbers = list(range(1,10+1))\n",
    "\n",
    "print(\"홀수만 추출하기\")\n",
    "print(list(filter(lambda x:x%2==1, numbers)))\n",
    "print()\n",
    "\n",
    "print(\"3이상, 7미만 추출하기\")\n",
    "print(list(filter(lambda x: 3<=x<7, numbers)))\n",
    "print()\n",
    "\n",
    "print(\"# 제곱해서 50 미만 추출하기\")\n",
    "print(list(filter(lambda x:x**2<50, numbers)))\n",
    "print()"
   ]
  },
  {
   "cell_type": "code",
   "execution_count": 251,
   "metadata": {},
   "outputs": [
    {
     "name": "stdout",
     "output_type": "stream",
     "text": [
      "홀수만 추출하기\n",
      "[1, 3, 5, 7, 9]\n",
      "\n",
      "3이상, 7미만 추출하기\n",
      "[3, 4, 5, 6]\n",
      "\n",
      "# 제곱해서 50 미만 추출하기\n",
      "[1, 2, 3, 4, 5, 6, 7]\n",
      "\n"
     ]
    }
   ],
   "source": [
    "numbers = list(range(1,10+1))\n",
    "\n",
    "print(\"홀수만 추출하기\")\n",
    "print(list(filter(lambda x : x%2==1, numbers)))\n",
    "print()\n",
    "\n",
    "print(\"3이상, 7미만 추출하기\")\n",
    "print(list(filter(lambda x : 3<=x<7, numbers)))\n",
    "print()\n",
    "\n",
    "print(\"# 제곱해서 50 미만 추출하기\")\n",
    "print(list(filter(lambda x:x**2 <50, numbers)))\n",
    "print()"
   ]
  },
  {
   "cell_type": "code",
   "execution_count": 226,
   "metadata": {},
   "outputs": [
    {
     "name": "stdout",
     "output_type": "stream",
     "text": [
      "홀수만 추출하기\n",
      "[1, 3, 5, 7, 9]\n",
      "\n",
      "3이상, 7미만 추출하기\n",
      "[3, 4, 5, 6]\n",
      "\n",
      "# 제곱해서 50 미만 추출하기\n",
      "[1, 2, 3, 4, 5, 6, 7]\n",
      "\n"
     ]
    }
   ],
   "source": [
    "numbers = list(range(1,10+1))\n",
    "\n",
    "print(\"홀수만 추출하기\")\n",
    "print(list(filter(lambda x:x%2==1, numbers)))\n",
    "print()\n",
    "\n",
    "print(\"3이상, 7미만 추출하기\")\n",
    "print(list(filter(lambda x: 3 <= x < 7, numbers)))\n",
    "print()\n",
    "\n",
    "print(\"# 제곱해서 50 미만 추출하기\")\n",
    "print(list(filter(lambda x:x**2 <50, numbers)))\n",
    "print()"
   ]
  },
  {
   "cell_type": "code",
   "execution_count": 98,
   "metadata": {},
   "outputs": [
    {
     "name": "stdout",
     "output_type": "stream",
     "text": [
      "홀수만 추출하기\n",
      "[1, 3, 5, 7, 9]\n",
      "\n",
      "3이상, 7미만 추출하기\n",
      "[3, 4, 5, 6]\n",
      "\n",
      "# 제곱해서 50 미만 추출하기\n",
      "[1, 2, 3, 4, 5, 6, 7, 8, 9, 10]\n",
      "\n"
     ]
    }
   ],
   "source": [
    "numbers = list(range(1,10+1))\n",
    "\n",
    "print(\"홀수만 추출하기\")\n",
    "print(list(filter(lambda x:x%2==1, numbers)))\n",
    "print()\n",
    "\n",
    "print(\"3이상, 7미만 추출하기\")\n",
    "print(list(filter(lambda x: 3<=x <7, numbers)))\n",
    "print()\n",
    "\n",
    "print(\"# 제곱해서 50 미만 추출하기\")\n",
    "print(list(filter(lambda x: x**2, numbers)))\n",
    "print()"
   ]
  },
  {
   "cell_type": "code",
   "execution_count": 165,
   "metadata": {},
   "outputs": [
    {
     "name": "stdout",
     "output_type": "stream",
     "text": [
      "홀수만 추출하기\n",
      "[1, 3, 5, 7, 9]\n",
      "\n",
      "3이상, 7미만 추출하기\n",
      "[3, 4, 5, 6]\n",
      "\n",
      "# 제곱해서 50 미만 추출하기\n",
      "[1, 2, 3, 4, 5, 6, 7, 8, 9, 10]\n",
      "\n"
     ]
    }
   ],
   "source": [
    "numbers = list(range(1,10+1))\n",
    "\n",
    "print(\"홀수만 추출하기\")\n",
    "print(list(filter(lambda x:x%2==1, numbers)))\n",
    "print()\n",
    "\n",
    "print(\"3이상, 7미만 추출하기\")\n",
    "print(list(filter(lambda x :3 <=x <7, numbers)))\n",
    "print()\n",
    "\n",
    "print(\"# 제곱해서 50 미만 추출하기\")\n",
    "print(list(filter(lambda x: x**2, numbers)))\n",
    "print()"
   ]
  },
  {
   "cell_type": "code",
   "execution_count": null,
   "metadata": {},
   "outputs": [],
   "source": [
    "numbers = list(range(1,10+1))\n",
    "\n",
    "print(\"홀수만 추출하기\")\n",
    "print()\n",
    "print()\n",
    "\n",
    "print(\"3이상, 7미만 추출하기\")\n",
    "print()\n",
    "\n",
    "print(\"# 제곱해서 50 미만 추출하기\")\n",
    "print()"
   ]
  },
  {
   "cell_type": "code",
   "execution_count": null,
   "metadata": {},
   "outputs": [],
   "source": [
    "numbers = list(range(1,10+1))\n",
    "\n",
    "print(\"홀수만 추출하기\")\n",
    "print(list(filter(lambda x:x%2==1, numbers)))\n",
    "print()\n",
    "\n",
    "print(\"3이상, 7미만 추출하기\")\n",
    "print(list(filter(lambda x: 3<= x <7, numbers)))\n",
    "\n",
    "print(\"# 제곱해서 50 미만 추출하기\")\n",
    "print(list(filter(lambda x:x**2 <50, numbers)))"
   ]
  },
  {
   "cell_type": "markdown",
   "metadata": {},
   "source": [
    "#11. 책값 추출하기 (딕셔너리에서 최소, 최대 등 내장함수 쓰기)"
   ]
  },
  {
   "cell_type": "code",
   "execution_count": null,
   "metadata": {},
   "outputs": [],
   "source": [
    "# lambda 이용\n",
    "books = [{\n",
    "    \"제목\" : \"혼공파\",\n",
    "    \"가격\" : 118000\n",
    "},{\n",
    "    \"제목\" : \"혼자공부하는 머신러닝+딥러닝\",\n",
    "    \"가격\" : 26000\n",
    "},{\n",
    "    \"제목\" : \"혼자 공부하는 자바스크립트\",\n",
    "    \"가격\" : 24000\n",
    "}]\n",
    "\n",
    "print(\"#가장 저렴한 책\")\n",
    "\n",
    "\n",
    "print(\"가장 비싼 책\")\n",
    "\n",
    "print(\"#가격 오름차순으로 정렬\")\n",
    "\n",
    "    \n",
    "print(\"#가격 내림차순으로 정렬\")\n"
   ]
  },
  {
   "cell_type": "code",
   "execution_count": 397,
   "metadata": {},
   "outputs": [
    {
     "name": "stdout",
     "output_type": "stream",
     "text": [
      "#가장 저렴한 책\n",
      "{'제목': '혼자 공부하는 자바스크립트', '가격': 24000}\n",
      "\n",
      "가장 비싼 책\n",
      "{'제목': '혼공파', '가격': 118000}\n",
      "#가격 오름차순으로 정렬\n",
      "{'제목': '혼자 공부하는 자바스크립트', '가격': 24000}\n",
      "{'제목': '혼자공부하는 머신러닝+딥러닝', '가격': 26000}\n",
      "{'제목': '혼공파', '가격': 118000}\n",
      "\n",
      "#가격 내림차순으로 정렬\n"
     ]
    }
   ],
   "source": [
    "# lambda 이용\n",
    "books = [{\n",
    "    \"제목\" : \"혼공파\",\n",
    "    \"가격\" : 118000\n",
    "},{\n",
    "    \"제목\" : \"혼자공부하는 머신러닝+딥러닝\",\n",
    "    \"가격\" : 26000\n",
    "},{\n",
    "    \"제목\" : \"혼자 공부하는 자바스크립트\",\n",
    "    \"가격\" : 24000\n",
    "}]\n",
    "\n",
    "print(\"#가장 저렴한 책\")\n",
    "print(min(books, key=lambda x:x['가격']))\n",
    "print()\n",
    "\n",
    "print(\"가장 비싼 책\")\n",
    "print(max(books, key=lambda x:x['가격']))\n",
    "\n",
    "print(\"#가격 오름차순으로 정렬\")\n",
    "books.sort(key=lambda x:x['가격'])\n",
    "for book in books:\n",
    "    print(book)    \n",
    "\n",
    "print()\n",
    "\n",
    "print(\"#가격 내림차순으로 정렬\")\n"
   ]
  },
  {
   "cell_type": "code",
   "execution_count": 391,
   "metadata": {},
   "outputs": [
    {
     "name": "stdout",
     "output_type": "stream",
     "text": [
      "#가장 저렴한 책\n",
      "{'제목': '혼자 공부하는 자바스크립트', '가격': 24000}\n",
      "\n",
      "가장 비싼 책\n",
      "{'제목': '혼공파', '가격': 118000}\n",
      "\n",
      "#가격 오름차순으로 정렬\n",
      "혼자 공부하는 자바스크립트 : 24000\n",
      "혼자공부하는 머신러닝+딥러닝 : 26000\n",
      "혼공파 : 118000\n",
      "\n",
      "#가격 내림차순으로 정렬\n",
      "혼공파 : 118000\n",
      "혼자공부하는 머신러닝+딥러닝 : 26000\n",
      "혼자 공부하는 자바스크립트 : 24000\n"
     ]
    }
   ],
   "source": [
    "# lambda 이용\n",
    "books = [{\n",
    "    \"제목\" : \"혼공파\",\n",
    "    \"가격\" : 118000\n",
    "},{\n",
    "    \"제목\" : \"혼자공부하는 머신러닝+딥러닝\",\n",
    "    \"가격\" : 26000\n",
    "},{\n",
    "    \"제목\" : \"혼자 공부하는 자바스크립트\",\n",
    "    \"가격\" : 24000\n",
    "}]\n",
    "\n",
    "print(\"#가장 저렴한 책\")\n",
    "print(min(books, key=lambda x:x['가격']))\n",
    "print()\n",
    "\n",
    "print(\"가장 비싼 책\")\n",
    "print(max(books, key=lambda x:x['가격']))\n",
    "print()\n",
    "\n",
    "print(\"#가격 오름차순으로 정렬\")\n",
    "books.sort(key=lambda x:x['가격'])\n",
    "for book in books:\n",
    "    print(f\"{book['제목']} : {book['가격']}\")    \n",
    "print()\n",
    "\n",
    "print(\"#가격 내림차순으로 정렬\")\n",
    "books.sort(key=lambda x:x['가격'], reverse=True)\n",
    "for book in books:\n",
    "    print(f\"{book['제목']} : {book['가격']}\")  "
   ]
  },
  {
   "cell_type": "code",
   "execution_count": 324,
   "metadata": {},
   "outputs": [
    {
     "name": "stdout",
     "output_type": "stream",
     "text": [
      "#가장 저렴한 책\n",
      "{'제목': '혼자 공부하는 자바스크립트', '가격': 24000}\n",
      "가장 비싼 책\n",
      "{'제목': '혼공파', '가격': 118000}\n",
      "#가격 오름차순으로 정렬\n",
      "{'제목': '혼자 공부하는 자바스크립트', '가격': 24000}\n",
      "{'제목': '혼자공부하는 머신러닝+딥러닝', '가격': 26000}\n",
      "{'제목': '혼공파', '가격': 118000}\n",
      "#가격 내림차순으로 정렬\n",
      "{'제목': '혼공파', '가격': 118000}\n",
      "{'제목': '혼자공부하는 머신러닝+딥러닝', '가격': 26000}\n",
      "{'제목': '혼자 공부하는 자바스크립트', '가격': 24000}\n"
     ]
    }
   ],
   "source": [
    "# lambda 이용\n",
    "books = [{\n",
    "    \"제목\" : \"혼공파\",\n",
    "    \"가격\" : 118000\n",
    "},{\n",
    "    \"제목\" : \"혼자공부하는 머신러닝+딥러닝\",\n",
    "    \"가격\" : 26000\n",
    "},{\n",
    "    \"제목\" : \"혼자 공부하는 자바스크립트\",\n",
    "    \"가격\" : 24000\n",
    "}]\n",
    "\n",
    "print(\"#가장 저렴한 책\")\n",
    "print(min(books, key=lambda book:book['가격']))\n",
    "\n",
    "print(\"가장 비싼 책\")\n",
    "print(max(books, key=lambda book:book['가격']))\n",
    "\n",
    "print(\"#가격 오름차순으로 정렬\")\n",
    "books.sort(key=lambda book:book['가격'])\n",
    "for i in range(0, len(books)):\n",
    "    print(books[i])\n",
    "    \n",
    "print(\"#가격 내림차순으로 정렬\")\n",
    "books.sort(key=lambda book:book['가격'], reverse=True)\n",
    "for i in range(0, len(books)):\n",
    "    print(books[i])"
   ]
  },
  {
   "cell_type": "code",
   "execution_count": 265,
   "metadata": {},
   "outputs": [
    {
     "name": "stdout",
     "output_type": "stream",
     "text": [
      "#가장 저렴한 책\n",
      "{'제목': '혼자 공부하는 자바스크립트', '가격': 24000}\n",
      "\n",
      "가장 비싼 책\n",
      "{'제목': '혼공파', '가격': 118000}\n",
      "\n",
      "#가격 오름차순으로 정렬\n",
      "{'제목': '혼자 공부하는 자바스크립트', '가격': 24000}\n",
      "{'제목': '혼자공부하는 머신러닝+딥러닝', '가격': 26000}\n",
      "{'제목': '혼공파', '가격': 118000}\n",
      "\n",
      "#가격 내림차순으로 정렬\n"
     ]
    },
    {
     "data": {
      "text/plain": [
       "[{'제목': '혼공파', '가격': 118000},\n",
       " {'제목': '혼자공부하는 머신러닝+딥러닝', '가격': 26000},\n",
       " {'제목': '혼자 공부하는 자바스크립트', '가격': 24000}]"
      ]
     },
     "execution_count": 265,
     "metadata": {},
     "output_type": "execute_result"
    }
   ],
   "source": [
    "# lambda 이용\n",
    "books = [{\n",
    "    \"제목\" : \"혼공파\",\n",
    "    \"가격\" : 118000\n",
    "},{\n",
    "    \"제목\" : \"혼자공부하는 머신러닝+딥러닝\",\n",
    "    \"가격\" : 26000\n",
    "},{\n",
    "    \"제목\" : \"혼자 공부하는 자바스크립트\",\n",
    "    \"가격\" : 24000\n",
    "}]\n",
    "\n",
    "print(\"#가장 저렴한 책\")\n",
    "print(min(books, key=lambda book:book['가격']))\n",
    "print()\n",
    "\n",
    "print(\"가장 비싼 책\")\n",
    "print(max(books, key=lambda x:x['가격']))\n",
    "print()\n",
    "\n",
    "print(\"#가격 오름차순으로 정렬\")\n",
    "books.sort(key=lambda book:book['가격'])\n",
    "for book in books:\n",
    "    print(book)\n",
    "print()\n",
    "    \n",
    "print(\"#가격 내림차순으로 정렬\")\n",
    "books.sort(key=lambda bok:bok['가격'], reverse=True)\n",
    "books"
   ]
  },
  {
   "cell_type": "code",
   "execution_count": 256,
   "metadata": {},
   "outputs": [
    {
     "name": "stdout",
     "output_type": "stream",
     "text": [
      "#가장 저렴한 책\n",
      "{'제목': '혼자 공부하는 자바스크립트', '가격': 24000}\n",
      "가장 비싼 책\n",
      "{'제목': '혼공파', '가격': 118000}\n",
      "#가격 오름차순으로 정렬\n",
      "{'제목': '혼자 공부하는 자바스크립트', '가격': 24000}\n",
      "{'제목': '혼자공부하는 머신러닝+딥러닝', '가격': 26000}\n",
      "{'제목': '혼공파', '가격': 118000}\n",
      "#가격 내림차순으로 정렬\n",
      "{'제목': '혼공파', '가격': 118000}\n",
      "{'제목': '혼자공부하는 머신러닝+딥러닝', '가격': 26000}\n",
      "{'제목': '혼자 공부하는 자바스크립트', '가격': 24000}\n"
     ]
    }
   ],
   "source": [
    "# lambda 이용\n",
    "books = [{\n",
    "    \"제목\" : \"혼공파\",\n",
    "    \"가격\" : 118000\n",
    "},{\n",
    "    \"제목\" : \"혼자공부하는 머신러닝+딥러닝\",\n",
    "    \"가격\" : 26000\n",
    "},{\n",
    "    \"제목\" : \"혼자 공부하는 자바스크립트\",\n",
    "    \"가격\" : 24000\n",
    "}]\n",
    "\n",
    "print(\"#가장 저렴한 책\")\n",
    "print(min(books, key=lambda book:book['가격']))\n",
    "\n",
    "print(\"가장 비싼 책\")\n",
    "print(max(books, key=lambda x:x['가격']))\n",
    "\n",
    "print(\"#가격 오름차순으로 정렬\")\n",
    "books.sort(key= lambda x:x['가격'])\n",
    "for book in books:\n",
    "    print(book)    \n",
    "print(\"#가격 내림차순으로 정렬\")\n",
    "\n",
    "books.sort(key=lambda x: x['가격'], reverse=True)\n",
    "for book in books:\n",
    "    print(book)\n"
   ]
  },
  {
   "cell_type": "code",
   "execution_count": 231,
   "metadata": {},
   "outputs": [
    {
     "name": "stdout",
     "output_type": "stream",
     "text": [
      "#가장 저렴한 책\n",
      "{'제목': '혼자 공부하는 자바스크립트', '가격': 24000}\n",
      "가장 비싼 책\n",
      "{'제목': '혼공파', '가격': 118000}\n",
      "#가격 오름차순으로 정렬\n",
      "{'제목': '혼자 공부하는 자바스크립트', '가격': 24000}\n",
      "{'제목': '혼자공부하는 머신러닝+딥러닝', '가격': 26000}\n",
      "{'제목': '혼공파', '가격': 118000}\n",
      "#가격 내림차순으로 정렬\n",
      "{'제목': '혼공파', '가격': 118000}\n",
      "{'제목': '혼자공부하는 머신러닝+딥러닝', '가격': 26000}\n",
      "{'제목': '혼자 공부하는 자바스크립트', '가격': 24000}\n"
     ]
    }
   ],
   "source": [
    "# lambda 이용\n",
    "books = [{\n",
    "    \"제목\" : \"혼공파\",\n",
    "    \"가격\" : 118000\n",
    "},{\n",
    "    \"제목\" : \"혼자공부하는 머신러닝+딥러닝\",\n",
    "    \"가격\" : 26000\n",
    "},{\n",
    "    \"제목\" : \"혼자 공부하는 자바스크립트\",\n",
    "    \"가격\" : 24000\n",
    "}]\n",
    "\n",
    "print(\"#가장 저렴한 책\")\n",
    "print(min(books, key= lambda book : book['가격']))\n",
    "\n",
    "print(\"가장 비싼 책\")\n",
    "print(max(books, key= lambda book : book['가격']))\n",
    "\n",
    "print(\"#가격 오름차순으로 정렬\")\n",
    "books.sort(key = lambda book :book['가격'])\n",
    "for book in books:\n",
    "    print(book)\n",
    "    \n",
    "print(\"#가격 내림차순으로 정렬\")\n",
    "books.sort(key=lambda book : book['가격'], reverse=True)\n",
    "for book in books:\n",
    "    print(book)\n"
   ]
  },
  {
   "cell_type": "code",
   "execution_count": 174,
   "metadata": {},
   "outputs": [
    {
     "name": "stdout",
     "output_type": "stream",
     "text": [
      "#가장 저렴한 책\n",
      "{'제목': '혼자 공부하는 자바스크립트', '가격': 24000}\n",
      "가장 비싼 책\n",
      "{'제목': '혼공파', '가격': 118000}\n",
      "#가격 오름차순으로 정렬\n",
      "혼자 공부하는 자바스크립트 : 24000\n",
      "혼자공부하는 머신러닝+딥러닝 : 26000\n",
      "혼공파 : 118000\n",
      "#가장 저렴한 순대로 정렬\n",
      "혼공파 : 118000\n",
      "혼자공부하는 머신러닝+딥러닝 : 26000\n",
      "혼자 공부하는 자바스크립트 : 24000\n"
     ]
    }
   ],
   "source": [
    "# lambda 이용\n",
    "books = [{\n",
    "    \"제목\" : \"혼공파\",\n",
    "    \"가격\" : 118000\n",
    "},{\n",
    "    \"제목\" : \"혼자공부하는 머신러닝+딥러닝\",\n",
    "    \"가격\" : 26000\n",
    "},{\n",
    "    \"제목\" : \"혼자 공부하는 자바스크립트\",\n",
    "    \"가격\" : 24000\n",
    "}]\n",
    "\n",
    "print(\"#가장 저렴한 책\")\n",
    "print(min(books, key=lambda book : book['가격']))\n",
    "\n",
    "print(\"가장 비싼 책\")\n",
    "print(max(books, key = lambda book : book['가격']))\n",
    "\n",
    "print(\"#가격 오름차순으로 정렬\")\n",
    "books.sort(key = lambda book:book['가격'])\n",
    "for book in books:\n",
    "    print(f\"{book['제목']} : {book['가격']}\")\n",
    "    \n",
    "print(\"#가장 저렴한 순대로 정렬\")\n",
    "books.sort(key=lambda book:book['가격'], reverse=True)\n",
    "for book in books:\n",
    "    print(f\"{book['제목']} : {book['가격']}\")\n"
   ]
  },
  {
   "cell_type": "code",
   "execution_count": 106,
   "metadata": {},
   "outputs": [
    {
     "name": "stdout",
     "output_type": "stream",
     "text": [
      "#가장 저렴한 책\n",
      "{'제목': '혼자 공부하는 자바스크립트', '가격': 24000}\n",
      "가장 비싼 책\n",
      "{'제목': '혼공파', '가격': 118000}\n",
      "#가격 오름차순으로 정렬\n",
      "혼자 공부하는 자바스크립트 : 24000\n",
      "혼자공부하는 머신러닝+딥러닝 : 26000\n",
      "혼공파 : 118000\n",
      "#가격 내림차순으로 정렬\n",
      "혼공파 : 118000\n",
      "혼자공부하는 머신러닝+딥러닝 : 26000\n",
      "혼자 공부하는 자바스크립트 : 24000\n"
     ]
    }
   ],
   "source": [
    "# lambda 이용\n",
    "books = [{\n",
    "    \"제목\" : \"혼공파\",\n",
    "    \"가격\" : 118000\n",
    "},{\n",
    "    \"제목\" : \"혼자공부하는 머신러닝+딥러닝\",\n",
    "    \"가격\" : 26000\n",
    "},{\n",
    "    \"제목\" : \"혼자 공부하는 자바스크립트\",\n",
    "    \"가격\" : 24000\n",
    "}]\n",
    "\n",
    "print(\"#가장 저렴한 책\")\n",
    "print(min(books, key = lambda book:book[\"가격\"]))\n",
    "\n",
    "print(\"가장 비싼 책\")\n",
    "print(max(books, key = lambda book : book['가격']))\n",
    "\n",
    "print(\"#가격 오름차순으로 정렬\")\n",
    "books.sort(key = lambda book : book['가격'])\n",
    "for book in books:\n",
    "    print(f\"{book['제목']} : {book['가격']}\")\n",
    "    \n",
    "print(\"#가격 내림차순으로 정렬\")\n",
    "books.sort(key=lambda book:book['가격'],reverse = True)\n",
    "for book in books:\n",
    "    print(f\"{book['제목']} : {book['가격']}\")\n"
   ]
  },
  {
   "cell_type": "code",
   "execution_count": null,
   "metadata": {},
   "outputs": [],
   "source": [
    "# lambda 이용\n",
    "books = [{\n",
    "    \"제목\" : \"혼공파\",\n",
    "    \"가격\" : 118000\n",
    "},{\n",
    "    \"제목\" : \"혼자공부하는 머신러닝+딥러닝\",\n",
    "    \"가격\" : 26000\n",
    "},{\n",
    "    \"제목\" : \"혼자 공부하는 자바스크립트\",\n",
    "    \"가격\" : 24000\n",
    "}]\n",
    "\n",
    "print(\"#가장 저렴한 책\")\n",
    "print(min(books, key = lambda bok:bok[\"가격\"]))\n",
    "print()\n",
    "\n",
    "# print(\"가장 비싼 책\")\n",
    "# print(max(books, key= lambda book:book[\"가격\"]))\n",
    "\n",
    "print(\"#가격 오름차순으로 정렬\")\n",
    "books.sort(key=lambda book:book[\"가격\"])\n",
    "for book in books:\n",
    "    print(book)\n",
    "    \n",
    "print(\"#가격 내림차순으로 정렬\")\n",
    "books.sort(key=lambda book:book[\"가격\"], reverse=True)\n",
    "for book in books:\n",
    "    print(book)"
   ]
  },
  {
   "cell_type": "code",
   "execution_count": null,
   "metadata": {},
   "outputs": [],
   "source": [
    "# lambda 이용\n",
    "books = [{\n",
    "    \"제목\" : \"혼공파\",\n",
    "    \"가격\" : 118000\n",
    "},{\n",
    "    \"제목\" : \"혼자공부하는 머신러닝+딥러닝\",\n",
    "    \"가격\" : 26000\n",
    "},{\n",
    "    \"제목\" : \"혼자 공부하는 자바스크립트\",\n",
    "    \"가격\" : 24000\n",
    "}]\n",
    "\n",
    "print(\"#가장 저렴한 책\")\n",
    "print(min(books, key=lambda book : book['가격']))\n",
    "\n",
    "print(\"#가장 비싼 책\")\n",
    "print(max(books, key=lambda book : book['가격']))\n",
    "\n",
    "print(\"#가격 오름차순으로 정렬\")\n",
    "books.sort(key=lambda book:book['가격'])\n",
    "for book in books:\n",
    "    print(book)\n",
    "    \n",
    "\n",
    "print(\"#가격 내림차순으로 정렬\")\n",
    "books.sort(key=lambda book:book['가격'],reverse=True)\n",
    "for book in books:\n",
    "    print(book)\n",
    "# books.sort(key=lambda book:book[\"가격\"], reverse=True)\n",
    "# for book in books:\n",
    "#     print(book)"
   ]
  },
  {
   "cell_type": "code",
   "execution_count": null,
   "metadata": {},
   "outputs": [],
   "source": []
  }
 ],
 "metadata": {
  "kernelspec": {
   "display_name": "Python 3",
   "language": "python",
   "name": "python3"
  },
  "language_info": {
   "codemirror_mode": {
    "name": "ipython",
    "version": 3
   },
   "file_extension": ".py",
   "mimetype": "text/x-python",
   "name": "python",
   "nbconvert_exporter": "python",
   "pygments_lexer": "ipython3",
   "version": "3.10.13"
  }
 },
 "nbformat": 4,
 "nbformat_minor": 2
}
