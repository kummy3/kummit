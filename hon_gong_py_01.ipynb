{
 "cells": [
  {
   "cell_type": "code",
   "execution_count": 1,
   "metadata": {},
   "outputs": [
    {
     "data": {
      "text/plain": [
       "\"52 <class 'int'>\""
      ]
     },
     "execution_count": 1,
     "metadata": {},
     "output_type": "execute_result"
    }
   ],
   "source": [
    "\"{} {}\".format(52,273)\n",
    "\"{} {}\".format(52, type(273))\n",
    "#\"{}\".format(52,273)"
   ]
  },
  {
   "cell_type": "code",
   "execution_count": 2,
   "metadata": {},
   "outputs": [
    {
     "name": "stdout",
     "output_type": "stream",
     "text": [
      "\n",
      "1 + 2 = 3\n"
     ]
    }
   ],
   "source": [
    "a=input(\"> 1번째 숫자: \")\n",
    "b=input(\"> 2번째 숫자: \")\n",
    "print()\n",
    "\n",
    "print(\"{} + {} = {}\".format(a,b,int(a)+int(b)))"
   ]
  },
  {
   "cell_type": "code",
   "execution_count": 3,
   "metadata": {},
   "outputs": [
    {
     "name": "stdout",
     "output_type": "stream",
     "text": [
      "\n",
      "1 + 2 = 12\n"
     ]
    }
   ],
   "source": [
    "a=input(\"> 1번째 숫자: \")\n",
    "b=input(\"> 2번째 숫자: \")\n",
    "print()\n",
    "\n",
    "print(\"{} + {} = {}\".format(a,b,a+b))"
   ]
  },
  {
   "cell_type": "code",
   "execution_count": 4,
   "metadata": {},
   "outputs": [
    {
     "data": {
      "text/plain": [
       "'3+4 = 7'"
      ]
     },
     "execution_count": 4,
     "metadata": {},
     "output_type": "execute_result"
    }
   ],
   "source": [
    "\"3+4 = \" + str(3+4)\n"
   ]
  },
  {
   "cell_type": "markdown",
   "metadata": {},
   "source": [
    "4-2 딕셔너리와 반복문"
   ]
  },
  {
   "cell_type": "code",
   "execution_count": 11,
   "metadata": {},
   "outputs": [
    {
     "name": "stdout",
     "output_type": "stream",
     "text": [
      "구름 5 살\n",
      "초코 1 살\n",
      "아지 7 살\n"
     ]
    }
   ],
   "source": [
    "pets = [\n",
    "    {\"name\": \"구름\", \"age\":5},\n",
    "    {\"name\": \"초코\", \"age\": 1},\n",
    "    {\"name\": \"아지\", \"age\": 7}\n",
    "]\n",
    "\n",
    "for pet in pets:\n",
    "    print(pet[\"name\"],pet[\"age\"],\"살\")"
   ]
  },
  {
   "cell_type": "code",
   "execution_count": 21,
   "metadata": {},
   "outputs": [
    {
     "name": "stdout",
     "output_type": "stream",
     "text": [
      "아지\n"
     ]
    }
   ],
   "source": [
    "print(pet['name'])"
   ]
  },
  {
   "cell_type": "code",
   "execution_count": 22,
   "metadata": {},
   "outputs": [
    {
     "name": "stdout",
     "output_type": "stream",
     "text": [
      "{1: 3, 2: 2, 3: 1, 4: 1, 5: 1, 6: 1, 7: 1, 8: 1, 9: 1}\n"
     ]
    }
   ],
   "source": [
    "numbers = [1,2,3,4,5,6,7,8,9,1,2,1]\n",
    "counter = {}\n",
    "\n",
    "for number in numbers:\n",
    "    if number in counter:\n",
    "        counter[number]+= 1\n",
    "    else: counter[number]=1\n",
    "\n",
    "print(counter)\n"
   ]
  },
  {
   "cell_type": "code",
   "execution_count": 128,
   "metadata": {},
   "outputs": [
    {
     "name": "stdout",
     "output_type": "stream",
     "text": [
      "{1: 3, 2: 2, 3: 1, 4: 1, 5: 1, 6: 1, 7: 1, 8: 1, 9: 1}\n"
     ]
    }
   ],
   "source": [
    "numbers = [1,2,3,4,5,6,7,8,9,1,2,1]\n",
    "counter = {}\n",
    "\n",
    "for number in numbers :\n",
    "    if number in counter :\n",
    "        counter[number]+=1\n",
    "    else : counter[number] = 1\n",
    "\n",
    "print(counter)"
   ]
  },
  {
   "cell_type": "code",
   "execution_count": 29,
   "metadata": {},
   "outputs": [
    {
     "name": "stdout",
     "output_type": "stream",
     "text": [
      "name : 기사\n",
      "level : 12\n",
      "sword : 불꽃의 검\n",
      "armor : 풀플레이트\n",
      "skill : 베기\n",
      "skill : 세게 베기\n",
      "skill : 아주 세게 베기\n"
     ]
    }
   ],
   "source": [
    "character = {\n",
    "    \"name\" : \"기사\",\n",
    "    \"level\" : 12,\n",
    "    \"items\": {\n",
    "        \"sword\" : \"불꽃의 검\",\n",
    "        \"armor\" : \"풀플레이트\"\n",
    "    },\n",
    "    \"skill\": [\"베기\", \"세게 베기\", \"아주 세게 베기\"]\n",
    "}\n",
    "\n",
    "for key in character:\n",
    "    if type(character[key])is dict:\n",
    "        for small_key in character[key]:\n",
    "            print(small_key, \":\", character[key][small_key])\n",
    "    elif type(character[key])is list:\n",
    "        for item in character[key]:\n",
    "            print(key, \":\", item)\n",
    "    else:\n",
    "        print(key, \":\", character[key])"
   ]
  },
  {
   "cell_type": "markdown",
   "metadata": {},
   "source": [
    "4-3. 범위자료형과 while반복문"
   ]
  },
  {
   "cell_type": "code",
   "execution_count": 1,
   "metadata": {},
   "outputs": [
    {
     "name": "stdout",
     "output_type": "stream",
     "text": [
      "*\n",
      "**\n",
      "***\n",
      "****\n",
      "*****\n",
      "******\n",
      "*******\n",
      "********\n",
      "*********\n",
      "\n"
     ]
    }
   ],
   "source": [
    "output = \"\"\n",
    "\n",
    "for i in range(1,10):\n",
    "    for j in range(0, i):\n",
    "        output += \"*\"\n",
    "    output += \"\\n\"\n",
    "    \n",
    "print(output)"
   ]
  },
  {
   "cell_type": "code",
   "execution_count": 3,
   "metadata": {},
   "outputs": [
    {
     "name": "stdout",
     "output_type": "stream",
     "text": [
      "             *\n",
      "            ***\n",
      "           *****\n",
      "          *******\n",
      "         *********\n",
      "        ***********\n",
      "       *************\n",
      "      ***************\n",
      "     *****************\n",
      "    *******************\n",
      "   *********************\n",
      "  ***********************\n",
      " *************************\n",
      "***************************\n",
      "\n"
     ]
    }
   ],
   "source": [
    "output = \"\"\n",
    "\n",
    "for i in range(1,15):\n",
    "    for j in range(14, i, -1):\n",
    "        output += ' '\n",
    "    for k in range(0,2*i -1):\n",
    "        output += '*'\n",
    "    output += '\\n'\n",
    "    \n",
    "    \n",
    "print(output)"
   ]
  },
  {
   "cell_type": "code",
   "execution_count": 5,
   "metadata": {},
   "outputs": [
    {
     "data": {
      "text/plain": [
       "27"
      ]
     },
     "execution_count": 5,
     "metadata": {},
     "output_type": "execute_result"
    }
   ],
   "source": [
    "len('***************************')"
   ]
  },
  {
   "cell_type": "code",
   "execution_count": 10,
   "metadata": {},
   "outputs": [
    {
     "name": "stdout",
     "output_type": "stream",
     "text": [
      "3\n",
      "6\n",
      "9\n"
     ]
    }
   ],
   "source": [
    "\n",
    "for i in range(3,9+1,3):\n",
    "    print(i)"
   ]
  },
  {
   "cell_type": "code",
   "execution_count": 30,
   "metadata": {},
   "outputs": [
    {
     "name": "stdout",
     "output_type": "stream",
     "text": [
      "{'name': '기사', 'hp': 200, 'mp': 30, 'level': 5}\n"
     ]
    }
   ],
   "source": [
    "key_list = [\"name\", \"hp\", \"mp\", \"level\"]\n",
    "value_list = [\"기사\", 200, 30, 5]\n",
    "character = {}\n",
    "\n",
    "for i in range(0,len(key_list)):\n",
    "    character[key_list[i]] = value_list[i]\n",
    "\n",
    "\n",
    "# 최종 출력\n",
    "print(character)"
   ]
  },
  {
   "cell_type": "code",
   "execution_count": 19,
   "metadata": {},
   "outputs": [
    {
     "name": "stdout",
     "output_type": "stream",
     "text": [
      "2500\n"
     ]
    }
   ],
   "source": [
    "current = 0\n",
    "a=0\n",
    "b=0\n",
    "\n",
    "for i in range(1,100//2+1):\n",
    "    j= 100-i\n",
    "    max_value = i*j\n",
    "    if max_value < current:\n",
    "        a = i\n",
    "        b = j \n",
    "        max_value = current\n",
    "    \n",
    "print(max_value)\n",
    "        "
   ]
  },
  {
   "cell_type": "code",
   "execution_count": 36,
   "metadata": {},
   "outputs": [
    {
     "name": "stdout",
     "output_type": "stream",
     "text": [
      "141를 더할 때 10000을 넘으며 그때의 값은 10011입니다\n"
     ]
    }
   ],
   "source": [
    "limit = 10000\n",
    "i = 1\n",
    "sum_value = 0\n",
    "\n",
    "while sum_value < limit :\n",
    "    sum_value += i \n",
    "    i+=1\n",
    "    \n",
    "    \n",
    "    \n",
    "print(\"{}를 더할 때 {}을 넘으며 그때의 값은 {}입니다\".format(i-1, limit, sum_value))"
   ]
  },
  {
   "cell_type": "code",
   "execution_count": 39,
   "metadata": {},
   "outputs": [
    {
     "name": "stdout",
     "output_type": "stream",
     "text": [
      "2 : 10\n",
      "5 : 101\n",
      "6 : 110\n",
      "11 : 1011\n",
      "13 : 1101\n",
      "14 : 1110\n",
      "23 : 10111\n",
      "27 : 11011\n",
      "29 : 11101\n",
      "30 : 11110\n",
      "47 : 101111\n",
      "55 : 110111\n",
      "59 : 111011\n",
      "61 : 111101\n",
      "62 : 111110\n",
      "95 : 1011111\n",
      "합계 :  539\n"
     ]
    }
   ],
   "source": [
    "output = [i for i in range(1, 100+1)\n",
    "    if \"{:b}\".format(i).count(\"0\") ==1]\n",
    "\n",
    "for i in output :\n",
    "    print(\"{} : {}\".format(i, \"{:b}\".format(i)))\n",
    "print(\"합계 : \", sum(output))"
   ]
  },
  {
   "cell_type": "code",
   "execution_count": 59,
   "metadata": {},
   "outputs": [
    {
     "name": "stdout",
     "output_type": "stream",
     "text": [
      "[1, 2, 3, 4, 1, 2, 3, 1, 4, 1, 2, 3] 에서 사용된 숫자의 종류는 4 개입니다.\n",
      "{1: 4, 2: 3, 3: 3, 4: 2}\n"
     ]
    }
   ],
   "source": [
    "numbers = [1,2,3,4,1,2,3,1,4,1,2,3]\n",
    "counter = {}\n",
    "\n",
    "for number in numbers :\n",
    "    if number in counter:\n",
    "        counter[number] += 1  \n",
    "    else :\n",
    "        counter[number] = 1 \n",
    "\n",
    "print(numbers,\"에서 사용된 숫자의 종류는\", len(counter),\"개입니다.\")        \n",
    "print(counter)"
   ]
  },
  {
   "cell_type": "code",
   "execution_count": 76,
   "metadata": {},
   "outputs": [
    {
     "name": "stdout",
     "output_type": "stream",
     "text": [
      "a의 개수:  9\n",
      "t의 개수:  9\n",
      "g의 개수:  6\n",
      "c의 개수:  9\n"
     ]
    }
   ],
   "source": [
    "dna = input(\"염기서열을 입력해주세요: \")\n",
    "\n",
    "count_c = 0\n",
    "count_t = 0\n",
    "count_a = 0\n",
    "count_g = 0\n",
    "\n",
    "for i in dna:\n",
    "    if i == 'c':\n",
    "        count_c += 1\n",
    "    elif i == 't':\n",
    "        count_t += 1\n",
    "    elif i == 'a' :\n",
    "        count_a += 1\n",
    "    else:\n",
    "        count_g += 1\n",
    "# for i in range(0, len(dna)):\n",
    "#     print(i)\n",
    "\n",
    "dna_component = ['a','t','g','c']\n",
    "print(\"a의 개수: \", count_a)\n",
    "print(\"t의 개수: \", count_t)\n",
    "print(\"g의 개수: \", count_g)\n",
    "print(\"c의 개수: \", count_c )"
   ]
  },
  {
   "cell_type": "code",
   "execution_count": 119,
   "metadata": {},
   "outputs": [
    {
     "name": "stdout",
     "output_type": "stream",
     "text": [
      "a의 개수 : 9\n",
      "t의 개수 : 9\n",
      "g의 개수 : 6\n",
      "c의 개수 : 9\n"
     ]
    }
   ],
   "source": [
    "nucleos = \"ctacaatgtcagtatacccattgcattagccgg\"\n",
    "counter = {\n",
    "    \"a\" : 0,\n",
    "    \"t\" : 0,\n",
    "    \"g\" : 0,\n",
    "    \"c\" : 0\n",
    "}\n",
    "\n",
    "for nucleo in nucleos :\n",
    "    counter[nucleo] += 1\n",
    "    \n",
    "for key in counter :\n",
    "    print(f\"{key}의 개수 : {counter[key]}\")\n",
    "    "
   ]
  },
  {
   "cell_type": "code",
   "execution_count": 121,
   "metadata": {},
   "outputs": [
    {
     "name": "stdout",
     "output_type": "stream",
     "text": [
      "{'cta': 1, 'caa': 1, 'tgt': 1, 'cag': 1, 'tat': 1, 'acc': 1, 'cat': 1, 'tgc': 1, 'att': 1, 'agc': 1, 'cgg': 1}\n"
     ]
    }
   ],
   "source": [
    "counter.clear()\n",
    "\n",
    "nucleos = \"ctacaatgtcagtatacccattgcattagccgg\"\n",
    "len(dna)\n",
    "for i in range(0,len(dna), 3):\n",
    "    codon = nucleos[i:i+3]\n",
    "    # 3글자로 구성되는지 확인\n",
    "    if len(codon) == 3: \n",
    "        # 딕셔너리에 키가 없을 경우 추가\n",
    "        if codon not in counter:\n",
    "            counter[codon] = 0\n",
    "        # 갯수를 추가 \n",
    "        counter[codon] += 1\n",
    "        \n",
    "print(counter)\n",
    "    \n"
   ]
  },
  {
   "cell_type": "code",
   "execution_count": 123,
   "metadata": {},
   "outputs": [
    {
     "name": "stdout",
     "output_type": "stream",
     "text": [
      "1\n",
      "2\n",
      "[3, 4]\n",
      "5\n",
      "[6, 7]\n",
      "[8, 9]\n",
      "[1, 2, [3, 4], 5, [6, 7], [8, 9]]를 평탄화하면\n",
      "[1, 2, 3, 4, 5, 6, 7, 8, 9]입니다\n"
     ]
    }
   ],
   "source": [
    "# 리스트 평탄화\n",
    "a = [1,2,[3,4],5,[6,7],[8,9]]\n",
    "output = []\n",
    "\n",
    "for i in a :\n",
    "    if type(i) == list :\n",
    "        for j in i :\n",
    "            output.append(j)\n",
    "    else:\n",
    "        output.append(i)\n",
    "        \n",
    "print(f\"{a}를 평탄화하면\")\n",
    "print(f\"{output}입니다\")"
   ]
  },
  {
   "cell_type": "code",
   "execution_count": 125,
   "metadata": {},
   "outputs": [
    {
     "name": "stdout",
     "output_type": "stream",
     "text": [
      "3150\n"
     ]
    }
   ],
   "source": [
    "def mul(*values):\n",
    "    output = 1\n",
    "    for value in values:\n",
    "        output *= value\n",
    " \n",
    "    return output\n",
    "\n",
    "print(mul(5,7,9,10))"
   ]
  },
  {
   "cell_type": "code",
   "execution_count": 126,
   "metadata": {},
   "outputs": [],
   "source": [
    "def fuction(*values, valueA=10, valueB=20):\n",
    "    pass\n",
    "fuction(1,2,3,4,5)"
   ]
  },
  {
   "cell_type": "code",
   "execution_count": null,
   "metadata": {},
   "outputs": [],
   "source": [
    "sit_min = 2\n",
    "sit_max = 10\n",
    "total = 100\n",
    "memo ={}\n",
    "\n",
    "def solution(left, sitted) :\n",
    "    key = str([left, sitted])\n",
    "    if key in memo :\n",
    "        return memo[key]\n",
    "    if left <0 :\n",
    "        return 0\n",
    "    if left ==0 :\n",
    "        return 1\n",
    "    # 재귀처리\n",
    "    count = 0\n",
    "    for i in range(sitted, sit_max+1):\n",
    "        count += solution(left -i, i)\n",
    "    # 메모화 처리\n",
    "    memo[key] = count\n",
    "    # 종료\n",
    "    return count\n",
    "print(solution(total, sit_min))"
   ]
  },
  {
   "cell_type": "code",
   "execution_count": 129,
   "metadata": {},
   "outputs": [
    {
     "name": "stdout",
     "output_type": "stream",
     "text": [
      "HI\n",
      "HI\n",
      "HI\n",
      "HI\n",
      "HI\n",
      "HI\n",
      "HI\n",
      "HI\n",
      "HI\n",
      "HI\n"
     ]
    }
   ],
   "source": [
    "def call_10_times(func):\n",
    "    for i in range(10):\n",
    "        func()\n",
    "\n",
    "def print_hello():\n",
    "    print(\"HI\")\n",
    "    \n",
    "call_10_times(print_hello)"
   ]
  },
  {
   "cell_type": "code",
   "execution_count": 131,
   "metadata": {},
   "outputs": [
    {
     "name": "stdout",
     "output_type": "stream",
     "text": [
      "# map() 함수의 실행결과\n",
      "map(power, list_input_a) : <map object at 0x10d24b5b0>\n",
      "map(power, list_input_a) : [1, 4, 9, 16, 25]\n",
      "\n",
      "# filter()함수의 실행결과\n",
      "filter(under_3, list_input_b) : <filter object at 0x10d24b4c0>\n",
      "filter(under_3, list_input_b) : [1, 2]\n"
     ]
    }
   ],
   "source": [
    "def power(item):\n",
    "    return item*item\n",
    "\n",
    "def under_3(item):\n",
    "    return item<3\n",
    "\n",
    "list_input_a = [1,2,3,4,5]\n",
    "\n",
    "output_a = map(power, list_input_a)\n",
    "print(\"# map() 함수의 실행결과\")\n",
    "print(\"map(power, list_input_a) :\", output_a)\n",
    "print(\"map(power, list_input_a) :\", list(output_a))\n",
    "print()\n",
    "\n",
    "\n",
    "#filter()함수\n",
    "output_b = filter(under_3, list_input_a)\n",
    "print(\"# filter()함수의 실행결과\")\n",
    "print(\"filter(under_3, list_input_b) :\", output_b)\n",
    "print(\"filter(under_3, list_input_b) :\", list(output_b))"
   ]
  },
  {
   "cell_type": "code",
   "execution_count": 132,
   "metadata": {},
   "outputs": [
    {
     "name": "stdout",
     "output_type": "stream",
     "text": [
      "# map() 함수의 실행결과\n",
      "map(power, list_input_a) : <map object at 0x10d3e34f0>\n",
      "map(power, list_input_a) : [1, 4, 9, 16, 25]\n",
      "\n",
      "# filter()함수의 실행결과\n",
      "filter(under_3, list_input_b) : <filter object at 0x10d3e3910>\n",
      "filter(under_3, list_input_b) : [1, 2]\n"
     ]
    }
   ],
   "source": [
    "output_a = map(lambda x:x**2, list_input_a)\n",
    "print(\"# map() 함수의 실행결과\")\n",
    "print(\"map(power, list_input_a) :\", output_a)\n",
    "print(\"map(power, list_input_a) :\", list(output_a))\n",
    "print()\n",
    "\n",
    "\n",
    "#filter()함수\n",
    "output_b = filter(lambda x:x<3, list_input_a)\n",
    "print(\"# filter()함수의 실행결과\")\n",
    "print(\"filter(under_3, list_input_b) :\", output_b)\n",
    "print(\"filter(under_3, list_input_b) :\", list(output_b))"
   ]
  },
  {
   "cell_type": "code",
   "execution_count": 138,
   "metadata": {},
   "outputs": [],
   "source": [
    "# 파일처리\n",
    "file_by_kummit = open(\"kummit_open.txt\", \"w\")\n",
    "file_by_kummit.write(\"Hello, Hangeul Day!\")\n",
    "file_by_kummit.close()"
   ]
  },
  {
   "cell_type": "code",
   "execution_count": 137,
   "metadata": {},
   "outputs": [],
   "source": [
    "with open(\"kummit_open.txt\", \"w\") as file:\n",
    "    file.write(\"hello!!!! Meet Again!\")"
   ]
  },
  {
   "cell_type": "code",
   "execution_count": 144,
   "metadata": {},
   "outputs": [
    {
     "name": "stdout",
     "output_type": "stream",
     "text": [
      "<_io.TextIOWrapper name='info.txt' mode='w' encoding='UTF-8'>\n"
     ]
    }
   ],
   "source": [
    "import random\n",
    "hangeuls = list(\"가나다라마바사아자타카타파하\")\n",
    "with open(\"info.txt\",\"w\") as file:\n",
    "    for i in range(10):\n",
    "        name = random.choice(hangeuls) + random.choice(hangeuls)\n",
    "        weight = random.randrange(40,100)\n",
    "        height = random.randrange(150,190)\n",
    "        file.write(\"{},{},{}\\n\".format(name, weight, height))\n",
    "             \n",
    "print(file)"
   ]
  },
  {
   "cell_type": "code",
   "execution_count": 154,
   "metadata": {},
   "outputs": [
    {
     "name": "stdout",
     "output_type": "stream",
     "text": [
      "이름: 하아\n",
      "몸무게: 58\n",
      "키: 167\n",
      "BMI: 0.012920472265537981\n",
      "결과: 저체중\n",
      "\n",
      "이름: 타카\n",
      "몸무게: 79\n",
      "키: 183\n",
      "BMI: 0.011467556974887503\n",
      "결과: 저체중\n",
      "\n",
      "이름: 카사\n",
      "몸무게: 42\n",
      "키: 170\n",
      "BMI: 0.008571428571428572\n",
      "결과: 저체중\n",
      "\n",
      "이름: 타하\n",
      "몸무게: 94\n",
      "키: 172\n",
      "BMI: 0.018132716049382717\n",
      "결과: 저체중\n",
      "\n",
      "이름: 사마\n",
      "몸무게: 86\n",
      "키: 183\n",
      "BMI: 0.012483669618231963\n",
      "결과: 저체중\n",
      "\n",
      "이름: 타하\n",
      "몸무게: 84\n",
      "키: 169\n",
      "BMI: 0.017643352236925015\n",
      "결과: 저체중\n",
      "\n",
      "이름: 자타\n",
      "몸무게: 44\n",
      "키: 172\n",
      "BMI: 0.008487654320987654\n",
      "결과: 저체중\n",
      "\n",
      "이름: 파카\n",
      "몸무게: 66\n",
      "키: 181\n",
      "BMI: 0.010059442158207591\n",
      "결과: 저체중\n",
      "\n",
      "이름: 타카\n",
      "몸무게: 42\n",
      "키: 189\n",
      "BMI: 0.005302360813028658\n",
      "결과: 저체중\n",
      "\n",
      "이름: 파마\n",
      "몸무게: 53\n",
      "키: 168\n",
      "BMI: 0.011461937716262976\n",
      "결과: 저체중\n",
      "\n"
     ]
    }
   ],
   "source": [
    "with open(\"info.txt\",\"r\") as file:\n",
    "    for line in file:\n",
    "        # (이름, 무게, 키)로 데이터 스플릿\n",
    "        (name, weight, height) = line.strip().split(\",\")\n",
    "        \n",
    "        # 아룸, 무게, 키 중에 한개라도 없으면... 건너뛰어\n",
    "        if (not name) or (not weight) or (not height):\n",
    "            continue\n",
    "        \n",
    "        # BMI 공식\n",
    "        bmi = int(weight)/((int(height)-100) **2)\n",
    "        result =\"\"\n",
    "        \n",
    "        if 25 <=bmi :\n",
    "            result = \"과체중\"\n",
    "        elif 18.5<bmi :\n",
    "            result = \"정상체중\"\n",
    "        else: \n",
    "            result = \"저체중\"\n",
    "            \n",
    "        # 내용물 한줄씩 띄워서 쓰기\n",
    "        print('\\n'.join([\n",
    "            \"이름: {}\",\n",
    "            \"몸무게: {}\",\n",
    "            \"키: {}\",\n",
    "            \"BMI: {}\",\n",
    "            \"결과: {}\"\n",
    "            ]).format(name, weight, height, bmi, result))\n",
    "        \n",
    "        print()\n",
    "     \n",
    "        "
   ]
  },
  {
   "cell_type": "markdown",
   "metadata": {},
   "source": [
    "###제네레이터\n",
    "- 파이썬의 특수한 문법구조.\n",
    "- 이터레이터를 직접 만들 때 사용되는 코드\n",
    "- 함수 내부에 yield 키워드 사용시 제너레이터 함수가 되고, 함수를 호출해도 함수 내부코드가 실행되지 않음. 그럼 어디다 써?(제네레이터 리턴만 한다며...)"
   ]
  },
  {
   "cell_type": "code",
   "execution_count": 155,
   "metadata": {},
   "outputs": [
    {
     "name": "stdout",
     "output_type": "stream",
     "text": [
      "첫 번째 값 생성\n",
      "1\n",
      "두 번째 값 생성\n",
      "2\n",
      "세 번째 값 생성\n",
      "3\n"
     ]
    }
   ],
   "source": [
    "# 간단한 제너레이터 예시\n",
    "def simple_generator():\n",
    "    print(\"첫 번째 값 생성\")\n",
    "    yield 1  # 첫 번째 값\n",
    "    print(\"두 번째 값 생성\")\n",
    "    yield 2  # 두 번째 값\n",
    "    print(\"세 번째 값 생성\")\n",
    "    yield 3  # 세 번째 값\n",
    "\n",
    "# 제너레이터를 생성하고 호출해보자\n",
    "gen = simple_generator()\n",
    "print(next(gen))  # 첫 번째 값 생성, 1 반환\n",
    "print(next(gen))  # 두 번째 값 생성, 2 반환\n",
    "print(next(gen))  # 세 번째 값 생성, 3 반환\n"
   ]
  },
  {
   "cell_type": "code",
   "execution_count": 156,
   "metadata": {},
   "outputs": [
    {
     "name": "stdout",
     "output_type": "stream",
     "text": [
      "#가장 저렴한 책\n",
      "{'제목': '혼공파', '가격': 18000}\n",
      "\n",
      "가장 비싼 책\n",
      "{'제목': '혼자공부하는 머신러닝+딥러닝', '가격': 26000}\n"
     ]
    }
   ],
   "source": [
    "books = [{\n",
    "    \"제목\" : \"혼공파\",\n",
    "    \"가격\" : 18000\n",
    "},{\n",
    "    \"제목\" : \"혼자공부하는 머신러닝+딥러닝\",\n",
    "    \"가격\" : 26000\n",
    "},{\n",
    "    \"제목\" : \"혼자 공부하는 자바스크립트\",\n",
    "    \"가격\" : 24000\n",
    "}]\n",
    "\n",
    "def 가격추출함수(book):\n",
    "    return book[\"가격\"]\n",
    "\n",
    "print(\"#가장 저렴한 책\")\n",
    "print(min(books, key =가격추출함수))\n",
    "print()\n",
    "\n",
    "print(\"가장 비싼 책\")\n",
    "print(max(books, key=가격추출함수))"
   ]
  },
  {
   "cell_type": "code",
   "execution_count": 161,
   "metadata": {},
   "outputs": [
    {
     "name": "stdout",
     "output_type": "stream",
     "text": [
      "#가장 저렴한 책\n",
      "{'제목': '혼자 공부하는 자바스크립트', '가격': 24000}\n",
      "\n"
     ]
    }
   ],
   "source": [
    "# lambda 이용\n",
    "books = [{\n",
    "    \"제목\" : \"혼공파\",\n",
    "    \"가격\" : 118000\n",
    "},{\n",
    "    \"제목\" : \"혼자공부하는 머신러닝+딥러닝\",\n",
    "    \"가격\" : 26000\n",
    "},{\n",
    "    \"제목\" : \"혼자 공부하는 자바스크립트\",\n",
    "    \"가격\" : 24000\n",
    "}]\n",
    "\n",
    "print(\"#가장 저렴한 책\")\n",
    "print(min(books, key = lambda bok:bok[\"가격\"]))\n",
    "print()\n",
    "\n",
    "print(\"가장 비싼 책\")\n",
    "print(max(books, key= lambda book:book[\"가격\"]))"
   ]
  },
  {
   "cell_type": "code",
   "execution_count": null,
   "metadata": {},
   "outputs": [],
   "source": [
    "# 오름차순\n"
   ]
  }
 ],
 "metadata": {
  "kernelspec": {
   "display_name": "Python 3",
   "language": "python",
   "name": "python3"
  },
  "language_info": {
   "codemirror_mode": {
    "name": "ipython",
    "version": 3
   },
   "file_extension": ".py",
   "mimetype": "text/x-python",
   "name": "python",
   "nbconvert_exporter": "python",
   "pygments_lexer": "ipython3",
   "version": "3.10.13"
  }
 },
 "nbformat": 4,
 "nbformat_minor": 2
}
